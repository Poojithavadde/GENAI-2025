{
  "nbformat": 4,
  "nbformat_minor": 0,
  "metadata": {
    "colab": {
      "provenance": []
    },
    "kernelspec": {
      "name": "python3",
      "display_name": "Python 3"
    },
    "language_info": {
      "name": "python"
    }
  },
  "cells": [
    {
      "cell_type": "code",
      "execution_count": null,
      "metadata": {
        "colab": {
          "base_uri": "https://localhost:8080/"
        },
        "id": "Ocv3itcMWnrX",
        "outputId": "cafc574e-7921-4fe2-c97f-6bd64aade156"
      },
      "outputs": [
        {
          "output_type": "execute_result",
          "data": {
            "text/plain": [
              "15000"
            ]
          },
          "metadata": {},
          "execution_count": 9
        }
      ],
      "source": [
        "weekly_sales=[\n",
        "    [\"chennai\",[12000,15000,17000]],   #Mon,Tue,Wed\n",
        "    [\"Delhi\",[10000,11000,10500]],\n",
        "    [\"Kolkata\",[9000,9500,9800]]\n",
        "]\n",
        "weekly_sales[0][1][1]"
      ]
    },
    {
      "cell_type": "code",
      "source": [
        "weekly_sales=[\n",
        "    [\"chennai\",[12000,15000,17000]],   #Mon,Tue,Wed\n",
        "    [\"Delhi\",[10000,11000,10500]],\n",
        "    [\"Kolkata\",[9000,9500,9800]]\n",
        "]\n",
        "weekly_sales[1][1]"
      ],
      "metadata": {
        "colab": {
          "base_uri": "https://localhost:8080/"
        },
        "id": "MKSOCLMPWr51",
        "outputId": "6f2fd21e-8e1c-43c3-c896-e3c73d40e535"
      },
      "execution_count": null,
      "outputs": [
        {
          "output_type": "execute_result",
          "data": {
            "text/plain": [
              "[10000, 11000, 10500]"
            ]
          },
          "metadata": {},
          "execution_count": 10
        }
      ]
    },
    {
      "cell_type": "code",
      "source": [
        "weekly_sales=[\n",
        "    [\"chennai\",[12000,15000,17000]],   #Mon,Tue,Wed\n",
        "    [\"Delhi\",[10000,11000,10500]],\n",
        "    [\"Kolkata\",[9000,9500,9800]]\n",
        "]\n",
        "weekly_sales[2][1][0]"
      ],
      "metadata": {
        "colab": {
          "base_uri": "https://localhost:8080/"
        },
        "id": "Bf8_KkWPWr9A",
        "outputId": "2be9d2ff-c26a-4d59-fc0d-f65964da0704"
      },
      "execution_count": null,
      "outputs": [
        {
          "output_type": "execute_result",
          "data": {
            "text/plain": [
              "9000"
            ]
          },
          "metadata": {},
          "execution_count": 12
        }
      ]
    },
    {
      "cell_type": "code",
      "source": [
        "weekly_sales=[\n",
        "    [\"chennai\",[12000,15000,17000]],   #Mon,Tue,Wed\n",
        "    [\"Delhi\",[10000,11000,10500]],\n",
        "    [\"Kolkata\",[9000,9500,9800]]\n",
        "]\n",
        "weekly_sales[1][0]"
      ],
      "metadata": {
        "colab": {
          "base_uri": "https://localhost:8080/",
          "height": 35
        },
        "id": "jcH6Y8fAWsAO",
        "outputId": "f08d134b-9da5-4d93-c284-27786ffaf7cd"
      },
      "execution_count": null,
      "outputs": [
        {
          "output_type": "execute_result",
          "data": {
            "text/plain": [
              "'Delhi'"
            ],
            "application/vnd.google.colaboratory.intrinsic+json": {
              "type": "string"
            }
          },
          "metadata": {},
          "execution_count": 14
        }
      ]
    },
    {
      "cell_type": "code",
      "source": [
        "weekly_sales=[\n",
        "    [\"chennai\",[12000,15000,17000]],   #Mon,Tue,Wed\n",
        "    [\"Delhi\",[10000,11000,10500]],\n",
        "    [\"Kolkata\",[9000,9500,9800]]\n",
        "]\n",
        "weekly_sales[0][1][2]"
      ],
      "metadata": {
        "colab": {
          "base_uri": "https://localhost:8080/"
        },
        "id": "sQeiLt-8WsDq",
        "outputId": "2a92a359-199f-4d2d-d7c6-f8941b1f44e3"
      },
      "execution_count": null,
      "outputs": [
        {
          "output_type": "execute_result",
          "data": {
            "text/plain": [
              "17000"
            ]
          },
          "metadata": {},
          "execution_count": 15
        }
      ]
    },
    {
      "cell_type": "code",
      "source": [
        "weekly_sales=[\n",
        "    [\"chennai\",[12000,15000,17000]],   #Mon,Tue,Wed\n",
        "    [\"Delhi\",[10000,11000,10500]],\n",
        "    [\"Kolkata\",[9000,9500,9800]]\n",
        "]\n",
        "weekly_sales[0][0],weekly_sales[1][0],weekly_sales[2][0]\n",
        "\n",
        "\n"
      ],
      "metadata": {
        "colab": {
          "base_uri": "https://localhost:8080/"
        },
        "id": "_RoOtqksWsG-",
        "outputId": "03b3edf3-bed8-4407-c286-44e9c5c27c98"
      },
      "execution_count": null,
      "outputs": [
        {
          "output_type": "execute_result",
          "data": {
            "text/plain": [
              "('chennai', 'Delhi', 'Kolkata')"
            ]
          },
          "metadata": {},
          "execution_count": 28
        }
      ]
    },
    {
      "cell_type": "code",
      "source": [
        "weekly_sales=[\n",
        "    [\"chennai\",[12000,15000,17000]],   #Mon,Tue,Wed\n",
        "    [\"Delhi\",[10000,11000,10500]],\n",
        "    [\"Kolkata\",[9000,9500,9800]]\n",
        "]\n",
        "weekly_sales[1][1]"
      ],
      "metadata": {
        "colab": {
          "base_uri": "https://localhost:8080/"
        },
        "id": "lCW1fVnkWsQd",
        "outputId": "b1697640-afe3-4339-ec11-2441367f53e1"
      },
      "execution_count": null,
      "outputs": [
        {
          "output_type": "execute_result",
          "data": {
            "text/plain": [
              "[10000, 11000, 10500]"
            ]
          },
          "metadata": {},
          "execution_count": 29
        }
      ]
    },
    {
      "cell_type": "code",
      "source": [
        "weekly_sales=[\n",
        "    [\"chennai\",[12000,15000,17000]],   #Mon,Tue,Wed\n",
        "    [\"Delhi\",[10000,11000,10500]],\n",
        "    [\"Kolkata\",[9000,9500,9800]]\n",
        "]\n",
        "weekly_sales[0][1][1]+weekly_sales[1][1][1]+weekly_sales[2][1][1]"
      ],
      "metadata": {
        "colab": {
          "base_uri": "https://localhost:8080/"
        },
        "id": "njvdWKGrWsee",
        "outputId": "67962a8d-1227-4419-cbb2-591c9db82f93"
      },
      "execution_count": null,
      "outputs": [
        {
          "output_type": "execute_result",
          "data": {
            "text/plain": [
              "35500"
            ]
          },
          "metadata": {},
          "execution_count": 30
        }
      ]
    },
    {
      "cell_type": "code",
      "source": [
        "weekly_sales=[\n",
        "    [\"chennai\",[12000,15000,17000]],   #Mon,Tue,Wed\n",
        "    [\"Delhi\",[10000,11000,10500]],\n",
        "    [\"Kolkata\",[9000,9500,9800]]\n",
        "]\n",
        "weekly_sales[2][1][0]+weekly_sales[2][1][1]+weekly_sales[2][1][2]"
      ],
      "metadata": {
        "colab": {
          "base_uri": "https://localhost:8080/"
        },
        "id": "CAROjT_VWspY",
        "outputId": "082b4a33-4597-4124-e9af-cc18d10b02b8"
      },
      "execution_count": null,
      "outputs": [
        {
          "output_type": "execute_result",
          "data": {
            "text/plain": [
              "28300"
            ]
          },
          "metadata": {},
          "execution_count": 34
        }
      ]
    },
    {
      "cell_type": "code",
      "source": [
        "weekly_sales=[\n",
        "    [\"chennai\",[12000,15000,17000]],   #Mon,Tue,Wed\n",
        "    [\"Delhi\",[10000,11000,10500]],\n",
        "    [\"Kolkata\",[9000,9500,9800]]\n",
        "]\n",
        "weekly_sales[0][1][0]+weekly_sales[0][1][1]+weekly_sales[0][1][2]/3"
      ],
      "metadata": {
        "colab": {
          "base_uri": "https://localhost:8080/"
        },
        "id": "7T4umV2sdwtI",
        "outputId": "5c37ad73-739b-4820-8de3-c8a6ccdbe14e"
      },
      "execution_count": null,
      "outputs": [
        {
          "output_type": "execute_result",
          "data": {
            "text/plain": [
              "32666.666666666668"
            ]
          },
          "metadata": {},
          "execution_count": 43
        }
      ]
    },
    {
      "cell_type": "code",
      "source": [
        "weekly_sales=[\n",
        "    [\"chennai\",[12000,15000,17000]],   #Mon,Tue,Wed\n",
        "    [\"Delhi\",[10000,11000,10500]],\n",
        "    [\"Kolkata\",[9000,9500,9800]]\n",
        "]\n",
        "weekly_sales[0][0]"
      ],
      "metadata": {
        "colab": {
          "base_uri": "https://localhost:8080/",
          "height": 35
        },
        "id": "Ed2TRx_Wdv-S",
        "outputId": "be3060dd-c614-4488-95ec-e15dd6d894ad"
      },
      "execution_count": null,
      "outputs": [
        {
          "output_type": "execute_result",
          "data": {
            "text/plain": [
              "'chennai'"
            ],
            "application/vnd.google.colaboratory.intrinsic+json": {
              "type": "string"
            }
          },
          "metadata": {},
          "execution_count": 38
        }
      ]
    },
    {
      "cell_type": "code",
      "source": [
        "weekly_sales=[\n",
        "    [\"chennai\",[12000,15000,17000]],   #Mon,Tue,Wed\n",
        "    [\"Delhi\",[10000,11000,10500]],\n",
        "    [\"Kolkata\",[9000,9500,9800]]\n",
        "]\n",
        "weekly_sales[2][0]"
      ],
      "metadata": {
        "colab": {
          "base_uri": "https://localhost:8080/",
          "height": 35
        },
        "id": "yrhpQY-LdviE",
        "outputId": "61f7cb58-4b4e-4523-b782-27e436bfabf4"
      },
      "execution_count": null,
      "outputs": [
        {
          "output_type": "execute_result",
          "data": {
            "text/plain": [
              "'Kolkata'"
            ],
            "application/vnd.google.colaboratory.intrinsic+json": {
              "type": "string"
            }
          },
          "metadata": {},
          "execution_count": 44
        }
      ]
    },
    {
      "cell_type": "code",
      "source": [
        "weekly_sales=[\n",
        "    [\"chennai\",[12000,15000,17000]],   #Mon,Tue,Wed\n",
        "    [\"Delhi\",[10000,11000,10500]],\n",
        "    [\"Kolkata\",[9000,9500,9800]]\n",
        "]\n",
        "weekly_sales[2][1][2]-weekly_sales[2][1][0]"
      ],
      "metadata": {
        "colab": {
          "base_uri": "https://localhost:8080/"
        },
        "id": "tGMD1MeidvWt",
        "outputId": "8bf63472-2b2d-476c-f3c6-77517a8e4b13"
      },
      "execution_count": null,
      "outputs": [
        {
          "output_type": "execute_result",
          "data": {
            "text/plain": [
              "800"
            ]
          },
          "metadata": {},
          "execution_count": 45
        }
      ]
    },
    {
      "cell_type": "code",
      "source": [
        "weekly_sales=[\n",
        "    [\"chennai\",[12000,15000,17000]],   #Mon,Tue,Wed\n",
        "    [\"Delhi\",[10000,11000,10500]],\n",
        "    [\"Kolkata\",[9000,9500,9800]]\n",
        "]\n",
        "weekly_sales[1][1][0]+weekly_sales[1][1][1]+weekly_sales[1][1][2]<weekly_sales[0][1][0]+weekly_sales[0][1][1]+weekly_sales[0][1][2]"
      ],
      "metadata": {
        "colab": {
          "base_uri": "https://localhost:8080/"
        },
        "id": "jVRHnF4hdvG4",
        "outputId": "12fbcc5a-33d5-4877-86c7-7d73807a823f"
      },
      "execution_count": null,
      "outputs": [
        {
          "output_type": "execute_result",
          "data": {
            "text/plain": [
              "True"
            ]
          },
          "metadata": {},
          "execution_count": 49
        }
      ]
    },
    {
      "cell_type": "code",
      "source": [],
      "metadata": {
        "id": "FooE3InHljzo"
      },
      "execution_count": null,
      "outputs": []
    },
    {
      "cell_type": "code",
      "source": [],
      "metadata": {
        "id": "I4yaPnr8lj3B"
      },
      "execution_count": null,
      "outputs": []
    },
    {
      "cell_type": "code",
      "source": [],
      "metadata": {
        "id": "IDVT77Z1lj7d"
      },
      "execution_count": null,
      "outputs": []
    },
    {
      "cell_type": "code",
      "source": [
        "weekly_sales=[\n",
        "    [\"chennai\",[12000,15000,17000]],   #Mon,Tue,Wed\n",
        "    [\"Delhi\",[10000,11000,10500]],\n",
        "    [\"Kolkata\",[9000,9500,9800]]\n",
        "]\n",
        "weekly_sales[0][1][2]"
      ],
      "metadata": {
        "colab": {
          "base_uri": "https://localhost:8080/"
        },
        "id": "Sstx_Iholj-e",
        "outputId": "1ac96960-fbf0-4f11-c261-769464f5e499"
      },
      "execution_count": null,
      "outputs": [
        {
          "output_type": "execute_result",
          "data": {
            "text/plain": [
              "17000"
            ]
          },
          "metadata": {},
          "execution_count": 47
        }
      ]
    },
    {
      "cell_type": "code",
      "source": [],
      "metadata": {
        "id": "KdcYZxA_lkBk"
      },
      "execution_count": null,
      "outputs": []
    },
    {
      "cell_type": "code",
      "source": [],
      "metadata": {
        "id": "Rgye7ryklkE-"
      },
      "execution_count": null,
      "outputs": []
    },
    {
      "cell_type": "code",
      "source": [],
      "metadata": {
        "id": "xuC3VOeGlkOh"
      },
      "execution_count": null,
      "outputs": []
    },
    {
      "cell_type": "code",
      "source": [],
      "metadata": {
        "id": "8QJU3vQYlkRi"
      },
      "execution_count": null,
      "outputs": []
    },
    {
      "cell_type": "code",
      "source": [],
      "metadata": {
        "id": "D7aIxckslkUb"
      },
      "execution_count": null,
      "outputs": []
    },
    {
      "cell_type": "code",
      "source": [],
      "metadata": {
        "id": "jFW3Y0R9lkXT"
      },
      "execution_count": null,
      "outputs": []
    },
    {
      "cell_type": "code",
      "source": [],
      "metadata": {
        "id": "UjzToKGzlkaU"
      },
      "execution_count": null,
      "outputs": []
    },
    {
      "cell_type": "code",
      "source": [],
      "metadata": {
        "id": "cI57ZMjIlkdz"
      },
      "execution_count": null,
      "outputs": []
    }
  ]
}