{
  "nbformat": 4,
  "nbformat_minor": 0,
  "metadata": {
    "colab": {
      "provenance": []
    },
    "kernelspec": {
      "name": "python3",
      "display_name": "Python 3"
    },
    "language_info": {
      "name": "python"
    }
  },
  "cells": [
    {
      "cell_type": "code",
      "source": [],
      "metadata": {
        "id": "FW2zpqobpi5_"
      },
      "execution_count": null,
      "outputs": []
    },
    {
      "cell_type": "code",
      "source": [
        "x={1,2,3,4}\n",
        "x.add(5)\n",
        "print(x)"
      ],
      "metadata": {
        "id": "_DbJRS5GuMfO",
        "colab": {
          "base_uri": "https://localhost:8080/"
        },
        "outputId": "decaff29-6b6f-4bcd-c47c-a6e28d0f559f"
      },
      "execution_count": 1,
      "outputs": [
        {
          "output_type": "stream",
          "name": "stdout",
          "text": [
            "{1, 2, 3, 4, 5}\n"
          ]
        }
      ]
    },
    {
      "cell_type": "code",
      "source": [
        "x={1,2,3,4}\n",
        "x.discard(5)\n",
        "print(x)"
      ],
      "metadata": {
        "id": "h5zfMIfWuMh5",
        "colab": {
          "base_uri": "https://localhost:8080/"
        },
        "outputId": "9482dc56-02d5-4bb1-b1a5-47ae628b80aa"
      },
      "execution_count": 2,
      "outputs": [
        {
          "output_type": "stream",
          "name": "stdout",
          "text": [
            "{1, 2, 3, 4}\n"
          ]
        }
      ]
    },
    {
      "cell_type": "code",
      "source": [
        "x={56,991,2,3,4}\n",
        "x.pop()\n",
        "print(x)"
      ],
      "metadata": {
        "id": "WZZKiysKuMkG",
        "colab": {
          "base_uri": "https://localhost:8080/"
        },
        "outputId": "f0f02e44-b22d-4079-9622-f900075c6e65"
      },
      "execution_count": 3,
      "outputs": [
        {
          "output_type": "stream",
          "name": "stdout",
          "text": [
            "{3, 4, 56, 991}\n"
          ]
        }
      ]
    },
    {
      "cell_type": "code",
      "source": [
        "x={1,2,3,5,56,78}\n",
        "x.remove()\n",
        "print(x)"
      ],
      "metadata": {
        "id": "EaAjX3xtuMni",
        "colab": {
          "base_uri": "https://localhost:8080/",
          "height": 176
        },
        "outputId": "1b2ea5aa-0b09-4568-e748-b56767c67fff"
      },
      "execution_count": 4,
      "outputs": [
        {
          "output_type": "error",
          "ename": "TypeError",
          "evalue": "set.remove() takes exactly one argument (0 given)",
          "traceback": [
            "\u001b[0;31m---------------------------------------------------------------------------\u001b[0m",
            "\u001b[0;31mTypeError\u001b[0m                                 Traceback (most recent call last)",
            "\u001b[0;32m<ipython-input-4-de9c6d5242f2>\u001b[0m in \u001b[0;36m<cell line: 0>\u001b[0;34m()\u001b[0m\n\u001b[1;32m      1\u001b[0m \u001b[0mx\u001b[0m\u001b[0;34m=\u001b[0m\u001b[0;34m{\u001b[0m\u001b[0;36m1\u001b[0m\u001b[0;34m,\u001b[0m\u001b[0;36m2\u001b[0m\u001b[0;34m,\u001b[0m\u001b[0;36m3\u001b[0m\u001b[0;34m,\u001b[0m\u001b[0;36m5\u001b[0m\u001b[0;34m,\u001b[0m\u001b[0;36m56\u001b[0m\u001b[0;34m,\u001b[0m\u001b[0;36m78\u001b[0m\u001b[0;34m}\u001b[0m\u001b[0;34m\u001b[0m\u001b[0;34m\u001b[0m\u001b[0m\n\u001b[0;32m----> 2\u001b[0;31m \u001b[0mx\u001b[0m\u001b[0;34m.\u001b[0m\u001b[0mremove\u001b[0m\u001b[0;34m(\u001b[0m\u001b[0;34m)\u001b[0m\u001b[0;34m\u001b[0m\u001b[0;34m\u001b[0m\u001b[0m\n\u001b[0m\u001b[1;32m      3\u001b[0m \u001b[0mprint\u001b[0m\u001b[0;34m(\u001b[0m\u001b[0mx\u001b[0m\u001b[0;34m)\u001b[0m\u001b[0;34m\u001b[0m\u001b[0;34m\u001b[0m\u001b[0m\n",
            "\u001b[0;31mTypeError\u001b[0m: set.remove() takes exactly one argument (0 given)"
          ]
        }
      ]
    },
    {
      "cell_type": "code",
      "source": [
        "x={2,3,4,5,}\n",
        "x.clear()\n",
        "print(x)\n"
      ],
      "metadata": {
        "id": "T0-bSqrTrl4G",
        "colab": {
          "base_uri": "https://localhost:8080/"
        },
        "outputId": "92efedbd-b5d2-4d10-8fc0-2e8bf5ae7a08"
      },
      "execution_count": 5,
      "outputs": [
        {
          "output_type": "stream",
          "name": "stdout",
          "text": [
            "set()\n"
          ]
        }
      ]
    },
    {
      "cell_type": "code",
      "source": [
        "x={1,2,3}\n",
        "y={4,5,6}\n",
        "x.union(y)"
      ],
      "metadata": {
        "colab": {
          "base_uri": "https://localhost:8080/"
        },
        "id": "SilnVej4qRmJ",
        "outputId": "d5289cd2-a8ab-4b50-c0de-b5cf97d34d6c"
      },
      "execution_count": 6,
      "outputs": [
        {
          "output_type": "execute_result",
          "data": {
            "text/plain": [
              "{1, 2, 3, 4, 5, 6}"
            ]
          },
          "metadata": {},
          "execution_count": 6
        }
      ]
    },
    {
      "cell_type": "code",
      "source": [
        "x={1,2,3}\n",
        "y={3,4,5}\n",
        "x.intersection(y)\n"
      ],
      "metadata": {
        "colab": {
          "base_uri": "https://localhost:8080/"
        },
        "id": "T8hVUiz8qRgz",
        "outputId": "a73f1b73-5711-43b5-8d74-9cec10030170"
      },
      "execution_count": 7,
      "outputs": [
        {
          "output_type": "execute_result",
          "data": {
            "text/plain": [
              "{3}"
            ]
          },
          "metadata": {},
          "execution_count": 7
        }
      ]
    },
    {
      "cell_type": "code",
      "source": [
        "x={1,2,3}\n",
        "y={3,4,5}\n",
        "x.difference(y)"
      ],
      "metadata": {
        "colab": {
          "base_uri": "https://localhost:8080/"
        },
        "id": "5b8R51uOqRZI",
        "outputId": "19e33fda-a9fd-4e99-ad1d-35a99804e72a"
      },
      "execution_count": 8,
      "outputs": [
        {
          "output_type": "execute_result",
          "data": {
            "text/plain": [
              "{1, 2}"
            ]
          },
          "metadata": {},
          "execution_count": 8
        }
      ]
    },
    {
      "cell_type": "code",
      "source": [
        "x={1,2,3}\n",
        "y={3,4,5}\n",
        "x.symmetric_difference(y)\n",
        "print(x)"
      ],
      "metadata": {
        "colab": {
          "base_uri": "https://localhost:8080/"
        },
        "id": "269A_pwIqRXK",
        "outputId": "3b8c3ae5-4d7c-431d-a67a-b53644909f14"
      },
      "execution_count": 9,
      "outputs": [
        {
          "output_type": "stream",
          "name": "stdout",
          "text": [
            "{1, 2, 3}\n"
          ]
        }
      ]
    },
    {
      "cell_type": "code",
      "source": [
        "x={1,2,3}\n",
        "y={3,4,5}\n",
        "x|(y)"
      ],
      "metadata": {
        "colab": {
          "base_uri": "https://localhost:8080/"
        },
        "id": "m54u9jSIqRUm",
        "outputId": "64f451a2-eace-4635-f6d2-7828386d5b82"
      },
      "execution_count": 10,
      "outputs": [
        {
          "output_type": "execute_result",
          "data": {
            "text/plain": [
              "{1, 2, 3, 4, 5}"
            ]
          },
          "metadata": {},
          "execution_count": 10
        }
      ]
    },
    {
      "cell_type": "code",
      "source": [
        "x={1,2,3}\n",
        "y={3,4,5}\n",
        "x&(y)"
      ],
      "metadata": {
        "colab": {
          "base_uri": "https://localhost:8080/"
        },
        "id": "XCi-3qS6qRR9",
        "outputId": "0a77bf27-98ca-4634-948e-e08120f33a21"
      },
      "execution_count": 11,
      "outputs": [
        {
          "output_type": "execute_result",
          "data": {
            "text/plain": [
              "{3}"
            ]
          },
          "metadata": {},
          "execution_count": 11
        }
      ]
    },
    {
      "cell_type": "code",
      "source": [
        "x={1,2,3}\n",
        "y={3,4,5}\n",
        "x-(y)"
      ],
      "metadata": {
        "colab": {
          "base_uri": "https://localhost:8080/"
        },
        "id": "A_nJgwq9qRPw",
        "outputId": "add6ab11-0524-4888-b501-944251b893e7"
      },
      "execution_count": 12,
      "outputs": [
        {
          "output_type": "execute_result",
          "data": {
            "text/plain": [
              "{1, 2}"
            ]
          },
          "metadata": {},
          "execution_count": 12
        }
      ]
    },
    {
      "cell_type": "code",
      "source": [
        "x={1,2,3}\n",
        "y={3,4,5}\n",
        "x^(y)"
      ],
      "metadata": {
        "colab": {
          "base_uri": "https://localhost:8080/"
        },
        "id": "VHpIukw3qRM5",
        "outputId": "f6df5faa-4d9c-4161-8ff9-a6b2b8468649"
      },
      "execution_count": 13,
      "outputs": [
        {
          "output_type": "execute_result",
          "data": {
            "text/plain": [
              "{1, 2, 4, 5}"
            ]
          },
          "metadata": {},
          "execution_count": 13
        }
      ]
    },
    {
      "cell_type": "code",
      "source": [
        "x={1,2}\n",
        "y={1,2,3}\n",
        "x.issubset(y)"
      ],
      "metadata": {
        "colab": {
          "base_uri": "https://localhost:8080/"
        },
        "id": "_U2-YUMIqRKD",
        "outputId": "fac3018f-1ebd-49ff-f988-1129b1aedfb7"
      },
      "execution_count": 14,
      "outputs": [
        {
          "output_type": "execute_result",
          "data": {
            "text/plain": [
              "True"
            ]
          },
          "metadata": {},
          "execution_count": 14
        }
      ]
    },
    {
      "cell_type": "code",
      "source": [
        "x={1,2,3}\n",
        "y={1}\n",
        "x.issuperset(y)"
      ],
      "metadata": {
        "colab": {
          "base_uri": "https://localhost:8080/"
        },
        "id": "l7Hsyl3dqRHJ",
        "outputId": "4e506bdd-f4dc-4766-801a-2278db51d35f"
      },
      "execution_count": 15,
      "outputs": [
        {
          "output_type": "execute_result",
          "data": {
            "text/plain": [
              "True"
            ]
          },
          "metadata": {},
          "execution_count": 15
        }
      ]
    },
    {
      "cell_type": "code",
      "source": [
        "x={1,2}\n",
        "y={3,4}\n",
        "x.isdisjoint(y)"
      ],
      "metadata": {
        "colab": {
          "base_uri": "https://localhost:8080/"
        },
        "id": "AHG3dSSnqREY",
        "outputId": "5a8726af-be00-4408-b817-fa331c991f01"
      },
      "execution_count": 16,
      "outputs": [
        {
          "output_type": "execute_result",
          "data": {
            "text/plain": [
              "True"
            ]
          },
          "metadata": {},
          "execution_count": 16
        }
      ]
    },
    {
      "cell_type": "code",
      "source": [
        "x={2,67,8}\n",
        "y=x.copy()\n",
        "print(y)\n",
        "print(x)"
      ],
      "metadata": {
        "colab": {
          "base_uri": "https://localhost:8080/"
        },
        "id": "zYO_XmMUqQ2Q",
        "outputId": "f76a3ab4-1b74-4f15-a7a0-9fa05451846d"
      },
      "execution_count": 17,
      "outputs": [
        {
          "output_type": "stream",
          "name": "stdout",
          "text": [
            "{8, 2, 67}\n",
            "{8, 2, 67}\n"
          ]
        }
      ]
    },
    {
      "cell_type": "code",
      "source": [
        "x={1,2,3,4}\n",
        "len(x)"
      ],
      "metadata": {
        "colab": {
          "base_uri": "https://localhost:8080/"
        },
        "id": "H7HllVXOrcvS",
        "outputId": "b85e523d-9fde-4a8b-e2a7-f264a0740ed6"
      },
      "execution_count": 18,
      "outputs": [
        {
          "output_type": "execute_result",
          "data": {
            "text/plain": [
              "4"
            ]
          },
          "metadata": {},
          "execution_count": 18
        }
      ]
    },
    {
      "cell_type": "code",
      "source": [
        "x={1,2,3,3,4,5,6,5}\n",
        "print(x)\n"
      ],
      "metadata": {
        "colab": {
          "base_uri": "https://localhost:8080/"
        },
        "id": "w8a-QtPBrcsf",
        "outputId": "e4bbe89a-2ca5-4f45-cc48-3adb305b68d6"
      },
      "execution_count": 19,
      "outputs": [
        {
          "output_type": "stream",
          "name": "stdout",
          "text": [
            "{1, 2, 3, 4, 5, 6}\n"
          ]
        }
      ]
    },
    {
      "cell_type": "code",
      "source": [],
      "metadata": {
        "id": "y-Qv1Lv9rcqS"
      },
      "execution_count": null,
      "outputs": []
    },
    {
      "cell_type": "code",
      "source": [],
      "metadata": {
        "id": "Ln6r2JZSrcnY"
      },
      "execution_count": null,
      "outputs": []
    },
    {
      "cell_type": "code",
      "source": [],
      "metadata": {
        "id": "1IM75E8Zrcez"
      },
      "execution_count": null,
      "outputs": []
    }
  ]
}