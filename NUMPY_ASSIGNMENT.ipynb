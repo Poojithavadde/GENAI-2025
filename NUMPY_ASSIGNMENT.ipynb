{
  "nbformat": 4,
  "nbformat_minor": 0,
  "metadata": {
    "colab": {
      "provenance": []
    },
    "kernelspec": {
      "name": "python3",
      "display_name": "Python 3"
    },
    "language_info": {
      "name": "python"
    }
  },
  "cells": [
    {
      "cell_type": "code",
      "execution_count": 1,
      "metadata": {
        "id": "Z6IQQcd4xNlz"
      },
      "outputs": [],
      "source": [
        "import numpy as np\n",
        "\n",
        "# Your provided dataset\n",
        "data_array = np.array([\n",
        "    [1001, 207, 307, 2, 8.5, 0, 4, 'West', 'PayPal', 503.0, 17.00],\n",
        "    [1002, 206, 305, 4, 10.99, 5, 6, 'Online', 'Cash', np.nan, 41.75],\n",
        "    [1003, 205, 301, 5, 10.99, 10, 6, 'Online', 'PayPal', np.nan, 49.46],\n",
        "    [1004, 206, 307, 2, 7.25, 10, 0, 'West', 'Credit Card', 501.0, 13.05],\n",
        "    [1005, 207, 306, 2, 49.99, 10, 6, 'West', 'PayPal', 502.0, 89.98],\n",
        "    [1006, 208, 308, 1, 12.75, 0, 0, 'East', 'Cash', 502.0, 12.75],\n",
        "    [1007, 206, 302, 3, 7.25, 0, 1, 'Online', 'PayPal', np.nan, 21.75],\n",
        "    [1008, 206, 308, 1, 10.99, 5, 8, 'West', 'Credit Card', 503.0, 10.44],\n",
        "    [1009, 204, 304, 5, 25.5, 0, 6, 'South', 'Credit Card', 501.0, 127.50],\n",
        "    [1010, 210, 302, 3, 8.5, 0, 4, 'North', 'Debit Card', 503.0, 25.50],\n",
        "    [1011, 202, 305, 3, 8.5, 0, 1, 'North', 'PayPal', 501.0, 25.50],\n",
        "    [1012, 205, 301, 1, 10.99, 0, 1, 'West', 'Debit Card', 503.0, 10.99],\n",
        "    [1013, 206, 307, 2, 25.5, 10, 1, 'North', 'Credit Card', 502.0, 45.90],\n",
        "    [1014, 202, 304, 1, 12.75, 5, 5, 'East', 'Cash', 501.0, 12.11],\n",
        "    [1015, 208, 303, 5, 49.99, 5, 4, 'Online', 'Credit Card', np.nan, 237.41],\n",
        "    [1016, 207, 301, 2, 10.99, 5, 5, 'West', 'Credit Card', 503.0, 20.88],\n",
        "    [1017, 203, 303, 2, 10.99, 10, 5, 'North', 'PayPal', 502.0, 19.78],\n",
        "    [1018, 202, 302, 5, 49.99, 5, 8, 'North', 'Credit Card', 503.0, 237.41],\n",
        "    [1019, 208, 304, 2, 7.25, 5, 7, 'South', 'Debit Card', 502.0, 13.78],\n",
        "    [1020, 206, 305, 3, 25.5, 10, 0, 'South', 'Debit Card', 503.0, 68.85]\n",
        "], dtype=object)\n",
        "\n",
        "# For numerical operations, we'll often need to cast columns.\n",
        "# Example: quantities_np = data_array[:, 3].astype(int)\n",
        "#          total_sales_np = data_array[:, 10].astype(float)"
      ]
    },
    {
      "cell_type": "code",
      "source": [
        " data_array.shape"
      ],
      "metadata": {
        "colab": {
          "base_uri": "https://localhost:8080/"
        },
        "id": "uvpeu420xuR2",
        "outputId": "019d2924-bf8d-43a4-8cb2-ccf7cc3c55a1"
      },
      "execution_count": 2,
      "outputs": [
        {
          "output_type": "execute_result",
          "data": {
            "text/plain": [
              "(20, 11)"
            ]
          },
          "metadata": {},
          "execution_count": 2
        }
      ]
    },
    {
      "cell_type": "code",
      "source": [
        "data_array.dtype"
      ],
      "metadata": {
        "colab": {
          "base_uri": "https://localhost:8080/"
        },
        "id": "MC-4l13axuOi",
        "outputId": "db306085-d553-4c2f-d745-1a164bbe86c7"
      },
      "execution_count": 3,
      "outputs": [
        {
          "output_type": "execute_result",
          "data": {
            "text/plain": [
              "dtype('O')"
            ]
          },
          "metadata": {},
          "execution_count": 3
        }
      ]
    },
    {
      "cell_type": "code",
      "source": [
        "quantities = data_array[:, 3].astype(int); np.sum(quantities)"
      ],
      "metadata": {
        "colab": {
          "base_uri": "https://localhost:8080/"
        },
        "id": "H8Ksk8a2xuMh",
        "outputId": "d763ac16-c020-4896-92b4-4913276662a5"
      },
      "execution_count": 4,
      "outputs": [
        {
          "output_type": "execute_result",
          "data": {
            "text/plain": [
              "np.int64(54)"
            ]
          },
          "metadata": {},
          "execution_count": 4
        }
      ]
    },
    {
      "cell_type": "code",
      "source": [
        "total_sales = data_array[:, 10].astype(float); np.mean(total_sales)"
      ],
      "metadata": {
        "colab": {
          "base_uri": "https://localhost:8080/"
        },
        "id": "ZZbYj-k2xuIV",
        "outputId": "b684373c-33ce-407c-af26-63854b18e5e7"
      },
      "execution_count": 5,
      "outputs": [
        {
          "output_type": "execute_result",
          "data": {
            "text/plain": [
              "np.float64(55.0895)"
            ]
          },
          "metadata": {},
          "execution_count": 5
        }
      ]
    },
    {
      "cell_type": "code",
      "source": [
        "data_array[0, 7]"
      ],
      "metadata": {
        "colab": {
          "base_uri": "https://localhost:8080/",
          "height": 35
        },
        "id": "ylHwPRVbxuCU",
        "outputId": "7f27311d-da2a-496b-dae2-6fb7e37adc3c"
      },
      "execution_count": 6,
      "outputs": [
        {
          "output_type": "execute_result",
          "data": {
            "text/plain": [
              "'West'"
            ],
            "application/vnd.google.colaboratory.intrinsic+json": {
              "type": "string"
            }
          },
          "metadata": {},
          "execution_count": 6
        }
      ]
    },
    {
      "cell_type": "code",
      "source": [
        "data_array[:, 8].size"
      ],
      "metadata": {
        "colab": {
          "base_uri": "https://localhost:8080/"
        },
        "id": "qVA3W_Gbxt-D",
        "outputId": "cf66bc49-2481-465c-c623-738b2ea1090e"
      },
      "execution_count": 7,
      "outputs": [
        {
          "output_type": "execute_result",
          "data": {
            "text/plain": [
              "20"
            ]
          },
          "metadata": {},
          "execution_count": 7
        }
      ]
    },
    {
      "cell_type": "code",
      "source": [
        "data_array[0]"
      ],
      "metadata": {
        "colab": {
          "base_uri": "https://localhost:8080/"
        },
        "id": "LBXaZdOjxt7t",
        "outputId": "c610c661-6018-428b-f3d7-801bb4df4c49"
      },
      "execution_count": 8,
      "outputs": [
        {
          "output_type": "execute_result",
          "data": {
            "text/plain": [
              "array([1001, 207, 307, 2, 8.5, 0, 4, 'West', 'PayPal', 503.0, 17.0],\n",
              "      dtype=object)"
            ]
          },
          "metadata": {},
          "execution_count": 8
        }
      ]
    },
    {
      "cell_type": "code",
      "source": [
        "type(data_array[0, 9])"
      ],
      "metadata": {
        "colab": {
          "base_uri": "https://localhost:8080/"
        },
        "id": "AqBaCY81xt5s",
        "outputId": "4b763742-ff7a-4b05-9a83-a13528a0da86"
      },
      "execution_count": 9,
      "outputs": [
        {
          "output_type": "execute_result",
          "data": {
            "text/plain": [
              "float"
            ]
          },
          "metadata": {},
          "execution_count": 9
        }
      ]
    },
    {
      "cell_type": "code",
      "source": [
        "transaction_ids = data_array[:, 0].astype(int); np.all(transaction_ids == data_array[:, 0])"
      ],
      "metadata": {
        "colab": {
          "base_uri": "https://localhost:8080/"
        },
        "id": "6gjYfEkNxt3H",
        "outputId": "6a489ad9-42c8-4272-f828-041d95e224fc"
      },
      "execution_count": 10,
      "outputs": [
        {
          "output_type": "execute_result",
          "data": {
            "text/plain": [
              "np.True_"
            ]
          },
          "metadata": {},
          "execution_count": 10
        }
      ]
    },
    {
      "cell_type": "code",
      "source": [
        "numerical_data = data_array[:, [0,1,2,3,4,5,6,10]].astype(float)"
      ],
      "metadata": {
        "id": "Jpq8tSHext0M"
      },
      "execution_count": 13,
      "outputs": []
    },
    {
      "cell_type": "code",
      "source": [
        "np.max(data_array[:, 3].astype(int))"
      ],
      "metadata": {
        "colab": {
          "base_uri": "https://localhost:8080/"
        },
        "id": "plm3inIgxtyH",
        "outputId": "847769d7-d063-46a5-a4a9-bda15cd25a6c"
      },
      "execution_count": 14,
      "outputs": [
        {
          "output_type": "execute_result",
          "data": {
            "text/plain": [
              "np.int64(5)"
            ]
          },
          "metadata": {},
          "execution_count": 14
        }
      ]
    },
    {
      "cell_type": "code",
      "source": [
        "np.min(data_array[:, 4].astype(float))"
      ],
      "metadata": {
        "colab": {
          "base_uri": "https://localhost:8080/"
        },
        "id": "IciKuTJ6xtvq",
        "outputId": "2745b908-56d9-497b-b022-d2781c3207b6"
      },
      "execution_count": 15,
      "outputs": [
        {
          "output_type": "execute_result",
          "data": {
            "text/plain": [
              "np.float64(7.25)"
            ]
          },
          "metadata": {},
          "execution_count": 15
        }
      ]
    },
    {
      "cell_type": "code",
      "source": [
        "np.sum(data_array[:, 5].astype(int))"
      ],
      "metadata": {
        "colab": {
          "base_uri": "https://localhost:8080/"
        },
        "id": "9zPoKFRBxttL",
        "outputId": "013d6211-3b50-4f63-9075-0105fbb808bc"
      },
      "execution_count": 16,
      "outputs": [
        {
          "output_type": "execute_result",
          "data": {
            "text/plain": [
              "np.int64(95)"
            ]
          },
          "metadata": {},
          "execution_count": 16
        }
      ]
    },
    {
      "cell_type": "code",
      "source": [
        "np.median(data_array[:, 10].astype(float))"
      ],
      "metadata": {
        "colab": {
          "base_uri": "https://localhost:8080/"
        },
        "id": "OgPqSJK2xtqu",
        "outputId": "b4ec5661-94f4-4e78-c0fb-f8b7048e0317"
      },
      "execution_count": 17,
      "outputs": [
        {
          "output_type": "execute_result",
          "data": {
            "text/plain": [
              "np.float64(23.625)"
            ]
          },
          "metadata": {},
          "execution_count": 17
        }
      ]
    },
    {
      "cell_type": "code",
      "source": [
        "np.std(data_array[:, 4].astype(float))"
      ],
      "metadata": {
        "colab": {
          "base_uri": "https://localhost:8080/"
        },
        "id": "caBYH91DxtoE",
        "outputId": "eb4fc993-7ab8-4976-d219-02e402dc2643"
      },
      "execution_count": 18,
      "outputs": [
        {
          "output_type": "execute_result",
          "data": {
            "text/plain": [
              "np.float64(14.49983124039725)"
            ]
          },
          "metadata": {},
          "execution_count": 18
        }
      ]
    },
    {
      "cell_type": "code",
      "source": [
        "len(np.unique(data_array[:, 1].astype(int)))"
      ],
      "metadata": {
        "colab": {
          "base_uri": "https://localhost:8080/"
        },
        "id": "zlt391rgxtjr",
        "outputId": "2823b7dc-5016-4584-915c-db81e6832d01"
      },
      "execution_count": 19,
      "outputs": [
        {
          "output_type": "execute_result",
          "data": {
            "text/plain": [
              "8"
            ]
          },
          "metadata": {},
          "execution_count": 19
        }
      ]
    },
    {
      "cell_type": "code",
      "source": [
        "len(np.unique(data_array[:, 2].astype(int)))"
      ],
      "metadata": {
        "colab": {
          "base_uri": "https://localhost:8080/"
        },
        "id": "_uJYDAV5xtgH",
        "outputId": "c94f372c-49bc-4074-9f2a-c43d09d51fba"
      },
      "execution_count": 20,
      "outputs": [
        {
          "output_type": "execute_result",
          "data": {
            "text/plain": [
              "8"
            ]
          },
          "metadata": {},
          "execution_count": 20
        }
      ]
    },
    {
      "cell_type": "code",
      "source": [
        "discounts = data_array[:, 5].astype(int); quantities = data_array[:, 3].astype(int); np.sum(quantities[discounts == 0])"
      ],
      "metadata": {
        "colab": {
          "base_uri": "https://localhost:8080/"
        },
        "id": "ikCB9dFkxtd2",
        "outputId": "71fe5f9c-c1b5-4b3e-aeca-2e9e92677db1"
      },
      "execution_count": 21,
      "outputs": [
        {
          "output_type": "execute_result",
          "data": {
            "text/plain": [
              "np.int64(18)"
            ]
          },
          "metadata": {},
          "execution_count": 21
        }
      ]
    },
    {
      "cell_type": "code",
      "source": [
        "quantities = data_array[:, 3].astype(int); total_sales = data_array[:, 10].astype(float); np.mean(total_sales[quantities > 3])"
      ],
      "metadata": {
        "colab": {
          "base_uri": "https://localhost:8080/"
        },
        "id": "1bdqLsEKxtbC",
        "outputId": "df02a55d-d1c1-4beb-9402-42b7d1ecaeed"
      },
      "execution_count": 22,
      "outputs": [
        {
          "output_type": "execute_result",
          "data": {
            "text/plain": [
              "np.float64(138.706)"
            ]
          },
          "metadata": {},
          "execution_count": 22
        }
      ]
    },
    {
      "cell_type": "code",
      "source": [
        "quantities = data_array[:, 3].astype(int); unit_prices = data_array[:, 4].astype(float); np.sum(quantities * unit_prices)"
      ],
      "metadata": {
        "colab": {
          "base_uri": "https://localhost:8080/"
        },
        "id": "lS_eUTO7xtYj",
        "outputId": "2356f3c2-4bed-4527-9f1e-7e2d498e2565"
      },
      "execution_count": 23,
      "outputs": [
        {
          "output_type": "execute_result",
          "data": {
            "text/plain": [
              "np.float64(1163.98)"
            ]
          },
          "metadata": {},
          "execution_count": 23
        }
      ]
    },
    {
      "cell_type": "code",
      "source": [
        "store_locations = data_array[:, 7]; total_sales = data_array[:, 10].astype(float); np.sum(total_sales[store_locations == 'Online'])"
      ],
      "metadata": {
        "colab": {
          "base_uri": "https://localhost:8080/"
        },
        "id": "VIHh8N04xtVv",
        "outputId": "869e66c7-a80f-4e39-eb74-cb2132d37719"
      },
      "execution_count": 24,
      "outputs": [
        {
          "output_type": "execute_result",
          "data": {
            "text/plain": [
              "np.float64(350.37)"
            ]
          },
          "metadata": {},
          "execution_count": 24
        }
      ]
    },
    {
      "cell_type": "code",
      "source": [
        "payment_types = data_array[:, 8]; np.sum(payment_types == 'PayPal')"
      ],
      "metadata": {
        "colab": {
          "base_uri": "https://localhost:8080/"
        },
        "id": "TMuK3jUszucF",
        "outputId": "60925104-d293-49dc-f5c2-47e54d4e761f"
      },
      "execution_count": 25,
      "outputs": [
        {
          "output_type": "execute_result",
          "data": {
            "text/plain": [
              "np.int64(6)"
            ]
          },
          "metadata": {},
          "execution_count": 25
        }
      ]
    },
    {
      "cell_type": "code",
      "source": [
        "salespersons = data_array[:, 9]; discounts = data_array[:, 5].astype(int); np.mean(discounts[salespersons == 501.0])"
      ],
      "metadata": {
        "colab": {
          "base_uri": "https://localhost:8080/"
        },
        "id": "Rev4hAnazuYt",
        "outputId": "fd0e5ed1-b61d-4b7c-afea-19c160e2d200"
      },
      "execution_count": 26,
      "outputs": [
        {
          "output_type": "execute_result",
          "data": {
            "text/plain": [
              "np.float64(3.75)"
            ]
          },
          "metadata": {},
          "execution_count": 26
        }
      ]
    },
    {
      "cell_type": "code",
      "source": [
        "salespersons = data_array[:, 9]; np.sum(~(salespersons == np.nan))"
      ],
      "metadata": {
        "colab": {
          "base_uri": "https://localhost:8080/"
        },
        "id": "pgkINoeAzuWe",
        "outputId": "edf6b647-7597-429d-debf-b1bcbc052567"
      },
      "execution_count": 27,
      "outputs": [
        {
          "output_type": "execute_result",
          "data": {
            "text/plain": [
              "np.int64(20)"
            ]
          },
          "metadata": {},
          "execution_count": 27
        }
      ]
    },
    {
      "cell_type": "code",
      "source": [
        "np.min(data_array[:, 6].astype(int))"
      ],
      "metadata": {
        "colab": {
          "base_uri": "https://localhost:8080/"
        },
        "id": "tabdMXfxzuUO",
        "outputId": "45dc6c83-3b80-4372-f2d6-3bb0ec3836ae"
      },
      "execution_count": 28,
      "outputs": [
        {
          "output_type": "execute_result",
          "data": {
            "text/plain": [
              "np.int64(0)"
            ]
          },
          "metadata": {},
          "execution_count": 28
        }
      ]
    },
    {
      "cell_type": "code",
      "source": [
        "product_ids = data_array[:, 2].astype(int); transaction_ids = data_array[:, 0].astype(int); transaction_ids[product_ids == 301]"
      ],
      "metadata": {
        "colab": {
          "base_uri": "https://localhost:8080/"
        },
        "id": "K-7fPVIwzuSR",
        "outputId": "690ed40f-1f9d-412d-e332-3ca1054da25d"
      },
      "execution_count": 29,
      "outputs": [
        {
          "output_type": "execute_result",
          "data": {
            "text/plain": [
              "array([1003, 1012, 1016])"
            ]
          },
          "metadata": {},
          "execution_count": 29
        }
      ]
    },
    {
      "cell_type": "code",
      "source": [
        "store_locations = data_array[:, 7]; total_sales = data_array[:, 10].astype(float); total_sales[store_locations == 'West']"
      ],
      "metadata": {
        "colab": {
          "base_uri": "https://localhost:8080/"
        },
        "id": "9jl6YjsvzuPs",
        "outputId": "205d997d-f08d-41b4-a88d-68670f961850"
      },
      "execution_count": 30,
      "outputs": [
        {
          "output_type": "execute_result",
          "data": {
            "text/plain": [
              "array([17.  , 13.05, 89.98, 10.44, 10.99, 20.88])"
            ]
          },
          "metadata": {},
          "execution_count": 30
        }
      ]
    },
    {
      "cell_type": "code",
      "source": [
        "store_locations = data_array[:, 7]; quantities = data_array[:, 3].astype(int); np.sum((store_locations == 'Online') & (quantities == 5))"
      ],
      "metadata": {
        "colab": {
          "base_uri": "https://localhost:8080/"
        },
        "id": "ojcSqmfYzuNh",
        "outputId": "a95abf33-85e4-49ee-9abc-d2027580b1dd"
      },
      "execution_count": 31,
      "outputs": [
        {
          "output_type": "execute_result",
          "data": {
            "text/plain": [
              "np.int64(2)"
            ]
          },
          "metadata": {},
          "execution_count": 31
        }
      ]
    },
    {
      "cell_type": "code",
      "source": [
        "payment_types = data_array[:, 8]; total_sales = data_array[:, 10].astype(float); customer_ids = data_array[:, 1].astype(int); customer_ids[(payment_types == 'Credit Card') & (total_sales > 50)]"
      ],
      "metadata": {
        "colab": {
          "base_uri": "https://localhost:8080/"
        },
        "id": "LE99gFA0zuKq",
        "outputId": "9b94e4d1-9b46-40b6-df4c-69f2d4afcd93"
      },
      "execution_count": 32,
      "outputs": [
        {
          "output_type": "execute_result",
          "data": {
            "text/plain": [
              "array([204, 208, 202])"
            ]
          },
          "metadata": {},
          "execution_count": 32
        }
      ]
    },
    {
      "cell_type": "code",
      "source": [
        "discounts = data_array[:, 5].astype(int); data_array[discounts == 10, :]"
      ],
      "metadata": {
        "colab": {
          "base_uri": "https://localhost:8080/"
        },
        "id": "0PAet8KezuF2",
        "outputId": "5bf08fc4-f4f2-4006-f854-513bdea07248"
      },
      "execution_count": 33,
      "outputs": [
        {
          "output_type": "execute_result",
          "data": {
            "text/plain": [
              "array([[1003, 205, 301, 5, 10.99, 10, 6, 'Online', 'PayPal', nan, 49.46],\n",
              "       [1004, 206, 307, 2, 7.25, 10, 0, 'West', 'Credit Card', 501.0,\n",
              "        13.05],\n",
              "       [1005, 207, 306, 2, 49.99, 10, 6, 'West', 'PayPal', 502.0, 89.98],\n",
              "       [1013, 206, 307, 2, 25.5, 10, 1, 'North', 'Credit Card', 502.0,\n",
              "        45.9],\n",
              "       [1017, 203, 303, 2, 10.99, 10, 5, 'North', 'PayPal', 502.0, 19.78],\n",
              "       [1020, 206, 305, 3, 25.5, 10, 0, 'South', 'Debit Card', 503.0,\n",
              "        68.85]], dtype=object)"
            ]
          },
          "metadata": {},
          "execution_count": 33
        }
      ]
    },
    {
      "cell_type": "code",
      "source": [
        "product_ids = data_array[:, 2].astype(int); store_locations = data_array[:, 7]; unit_prices = data_array[:, 4].astype(float); unit_prices[(product_ids == 307) & (store_locations == 'West')]"
      ],
      "metadata": {
        "colab": {
          "base_uri": "https://localhost:8080/"
        },
        "id": "z0QwKA7Jzt5x",
        "outputId": "e04fba40-92bd-474d-fe41-5a3292c0f478"
      },
      "execution_count": 34,
      "outputs": [
        {
          "output_type": "execute_result",
          "data": {
            "text/plain": [
              "array([8.5 , 7.25])"
            ]
          },
          "metadata": {},
          "execution_count": 34
        }
      ]
    },
    {
      "cell_type": "code",
      "source": [
        "salespersons = data_array[:, 9]; np.sum(salespersons == np.nan)"
      ],
      "metadata": {
        "colab": {
          "base_uri": "https://localhost:8080/"
        },
        "id": "XtlasjMrzt3s",
        "outputId": "ba9cb0a3-2663-49ac-9002-1b410850697e"
      },
      "execution_count": 35,
      "outputs": [
        {
          "output_type": "execute_result",
          "data": {
            "text/plain": [
              "np.int64(0)"
            ]
          },
          "metadata": {},
          "execution_count": 35
        }
      ]
    },
    {
      "cell_type": "code",
      "source": [
        "discounts = data_array[:, 5].astype(int); total_sales = data_array[:, 10].astype(float); total_sales[discounts == 0]"
      ],
      "metadata": {
        "colab": {
          "base_uri": "https://localhost:8080/"
        },
        "id": "KXyP5CPbzt1R",
        "outputId": "a76d3ae1-1e39-420a-a861-d91f93262831"
      },
      "execution_count": 36,
      "outputs": [
        {
          "output_type": "execute_result",
          "data": {
            "text/plain": [
              "array([ 17.  ,  12.75,  21.75, 127.5 ,  25.5 ,  25.5 ,  10.99])"
            ]
          },
          "metadata": {},
          "execution_count": 36
        }
      ]
    },
    {
      "cell_type": "code",
      "source": [
        "quantities = data_array[:, 3].astype(int); transaction_ids = data_array[:, 0].astype(int); transaction_ids[(quantities == 1) | (quantities == 5)]"
      ],
      "metadata": {
        "colab": {
          "base_uri": "https://localhost:8080/"
        },
        "id": "G9vDKW8cztzK",
        "outputId": "8656f191-bcf3-4580-b0ae-6104c1b1e830"
      },
      "execution_count": 37,
      "outputs": [
        {
          "output_type": "execute_result",
          "data": {
            "text/plain": [
              "array([1003, 1006, 1008, 1009, 1012, 1014, 1015, 1018])"
            ]
          },
          "metadata": {},
          "execution_count": 37
        }
      ]
    },
    {
      "cell_type": "code",
      "source": [
        "store_locations = data_array[:, 7]; np.sum(np.isin(store_locations, ['North', 'South']))"
      ],
      "metadata": {
        "colab": {
          "base_uri": "https://localhost:8080/"
        },
        "id": "WFh5M3SHztw3",
        "outputId": "d073fc9d-69dc-4259-dbf9-e6f2e8b501ea"
      },
      "execution_count": 38,
      "outputs": [
        {
          "output_type": "execute_result",
          "data": {
            "text/plain": [
              "np.int64(8)"
            ]
          },
          "metadata": {},
          "execution_count": 38
        }
      ]
    },
    {
      "cell_type": "code",
      "source": [
        "payment_types = data_array[:, 8]; data_array[payment_types != 'Cash', :]"
      ],
      "metadata": {
        "colab": {
          "base_uri": "https://localhost:8080/"
        },
        "id": "kXGAwE7Vztug",
        "outputId": "a67b2718-e762-4f81-aa11-eb6b833a0644"
      },
      "execution_count": 39,
      "outputs": [
        {
          "output_type": "execute_result",
          "data": {
            "text/plain": [
              "array([[1001, 207, 307, 2, 8.5, 0, 4, 'West', 'PayPal', 503.0, 17.0],\n",
              "       [1003, 205, 301, 5, 10.99, 10, 6, 'Online', 'PayPal', nan, 49.46],\n",
              "       [1004, 206, 307, 2, 7.25, 10, 0, 'West', 'Credit Card', 501.0,\n",
              "        13.05],\n",
              "       [1005, 207, 306, 2, 49.99, 10, 6, 'West', 'PayPal', 502.0, 89.98],\n",
              "       [1007, 206, 302, 3, 7.25, 0, 1, 'Online', 'PayPal', nan, 21.75],\n",
              "       [1008, 206, 308, 1, 10.99, 5, 8, 'West', 'Credit Card', 503.0,\n",
              "        10.44],\n",
              "       [1009, 204, 304, 5, 25.5, 0, 6, 'South', 'Credit Card', 501.0,\n",
              "        127.5],\n",
              "       [1010, 210, 302, 3, 8.5, 0, 4, 'North', 'Debit Card', 503.0, 25.5],\n",
              "       [1011, 202, 305, 3, 8.5, 0, 1, 'North', 'PayPal', 501.0, 25.5],\n",
              "       [1012, 205, 301, 1, 10.99, 0, 1, 'West', 'Debit Card', 503.0,\n",
              "        10.99],\n",
              "       [1013, 206, 307, 2, 25.5, 10, 1, 'North', 'Credit Card', 502.0,\n",
              "        45.9],\n",
              "       [1015, 208, 303, 5, 49.99, 5, 4, 'Online', 'Credit Card', nan,\n",
              "        237.41],\n",
              "       [1016, 207, 301, 2, 10.99, 5, 5, 'West', 'Credit Card', 503.0,\n",
              "        20.88],\n",
              "       [1017, 203, 303, 2, 10.99, 10, 5, 'North', 'PayPal', 502.0, 19.78],\n",
              "       [1018, 202, 302, 5, 49.99, 5, 8, 'North', 'Credit Card', 503.0,\n",
              "        237.41],\n",
              "       [1019, 208, 304, 2, 7.25, 5, 7, 'South', 'Debit Card', 502.0,\n",
              "        13.78],\n",
              "       [1020, 206, 305, 3, 25.5, 10, 0, 'South', 'Debit Card', 503.0,\n",
              "        68.85]], dtype=object)"
            ]
          },
          "metadata": {},
          "execution_count": 39
        }
      ]
    },
    {
      "cell_type": "code",
      "source": [
        "total_sales = data_array[:, 10].astype(float); product_ids = data_array[:, 2].astype(int); product_ids[(total_sales >= 10) & (total_sales <= 20)]"
      ],
      "metadata": {
        "colab": {
          "base_uri": "https://localhost:8080/"
        },
        "id": "au_gJAmGztr8",
        "outputId": "cbb7117f-bcb7-42bb-ffe6-d0e667c0df9a"
      },
      "execution_count": 40,
      "outputs": [
        {
          "output_type": "execute_result",
          "data": {
            "text/plain": [
              "array([307, 307, 308, 308, 301, 304, 303, 304])"
            ]
          },
          "metadata": {},
          "execution_count": 40
        }
      ]
    },
    {
      "cell_type": "code",
      "source": [
        "salespersons = data_array[:, 9]; discounts = data_array[:, 5].astype(int); np.sum((salespersons == 503.0) & (discounts > 0))"
      ],
      "metadata": {
        "colab": {
          "base_uri": "https://localhost:8080/"
        },
        "id": "MtCoMf_lztpg",
        "outputId": "dc227ee1-0a9b-4888-954e-83530c796564"
      },
      "execution_count": 41,
      "outputs": [
        {
          "output_type": "execute_result",
          "data": {
            "text/plain": [
              "np.int64(4)"
            ]
          },
          "metadata": {},
          "execution_count": 41
        }
      ]
    },
    {
      "cell_type": "code",
      "source": [
        "transaction_days = data_array[:, 6].astype(int); data_array[transaction_days == 0, :]"
      ],
      "metadata": {
        "colab": {
          "base_uri": "https://localhost:8080/"
        },
        "id": "NwQpH0JE00ih",
        "outputId": "ee719ea9-aeb3-44e4-d98b-f36c2104d277"
      },
      "execution_count": 42,
      "outputs": [
        {
          "output_type": "execute_result",
          "data": {
            "text/plain": [
              "array([[1004, 206, 307, 2, 7.25, 10, 0, 'West', 'Credit Card', 501.0,\n",
              "        13.05],\n",
              "       [1006, 208, 308, 1, 12.75, 0, 0, 'East', 'Cash', 502.0, 12.75],\n",
              "       [1020, 206, 305, 3, 25.5, 10, 0, 'South', 'Debit Card', 503.0,\n",
              "        68.85]], dtype=object)"
            ]
          },
          "metadata": {},
          "execution_count": 42
        }
      ]
    },
    {
      "cell_type": "code",
      "source": [
        "store_locations = data_array[:, 7]; east_indices = (store_locations == 'East'); data_array[east_indices][:, [0, 10]]"
      ],
      "metadata": {
        "colab": {
          "base_uri": "https://localhost:8080/"
        },
        "id": "YqYqlYIs00gw",
        "outputId": "d864d4b1-8026-4279-d08a-59b4cbfd281a"
      },
      "execution_count": 43,
      "outputs": [
        {
          "output_type": "execute_result",
          "data": {
            "text/plain": [
              "array([[1006, 12.75],\n",
              "       [1014, 12.11]], dtype=object)"
            ]
          },
          "metadata": {},
          "execution_count": 43
        }
      ]
    },
    {
      "cell_type": "code",
      "source": [
        "product_ids = data_array[:, 2].astype(int); quantities = data_array[:, 3].astype(int); np.sum((product_ids == 304) & (quantities == 1))"
      ],
      "metadata": {
        "colab": {
          "base_uri": "https://localhost:8080/"
        },
        "id": "z9KJHtv400eE",
        "outputId": "e356a6ac-e959-46d8-8b94-ff2862727d8e"
      },
      "execution_count": 44,
      "outputs": [
        {
          "output_type": "execute_result",
          "data": {
            "text/plain": [
              "np.int64(1)"
            ]
          },
          "metadata": {},
          "execution_count": 44
        }
      ]
    },
    {
      "cell_type": "code",
      "source": [
        "customer_ids = data_array[:, 1].astype(int); payment_types = data_array[:, 8]; total_sales = data_array[:, 10].astype(float); total_sales[(customer_ids == 206) & (payment_types == 'Cash')]"
      ],
      "metadata": {
        "colab": {
          "base_uri": "https://localhost:8080/"
        },
        "id": "RrR1ZCY500Sp",
        "outputId": "9154baec-535d-484e-9a4c-c70a305b1a9b"
      },
      "execution_count": 45,
      "outputs": [
        {
          "output_type": "execute_result",
          "data": {
            "text/plain": [
              "array([41.75])"
            ]
          },
          "metadata": {},
          "execution_count": 45
        }
      ]
    },
    {
      "cell_type": "code",
      "source": [
        "np.unique(data_array[:, 7])"
      ],
      "metadata": {
        "colab": {
          "base_uri": "https://localhost:8080/"
        },
        "id": "bpIBSAGw00OR",
        "outputId": "9603c5cc-620c-4d13-d552-a0cdc3be3106"
      },
      "execution_count": 46,
      "outputs": [
        {
          "output_type": "execute_result",
          "data": {
            "text/plain": [
              "array(['East', 'North', 'Online', 'South', 'West'], dtype=object)"
            ]
          },
          "metadata": {},
          "execution_count": 46
        }
      ]
    },
    {
      "cell_type": "code",
      "source": [
        "unit_prices = data_array[:, 4].astype(float); data_array[np.isclose(unit_prices, 10.99), :]"
      ],
      "metadata": {
        "colab": {
          "base_uri": "https://localhost:8080/"
        },
        "id": "4fqAQp-k00L2",
        "outputId": "9886c9b5-1d3b-47f2-8e9d-ff47d53f0514"
      },
      "execution_count": 47,
      "outputs": [
        {
          "output_type": "execute_result",
          "data": {
            "text/plain": [
              "array([[1002, 206, 305, 4, 10.99, 5, 6, 'Online', 'Cash', nan, 41.75],\n",
              "       [1003, 205, 301, 5, 10.99, 10, 6, 'Online', 'PayPal', nan, 49.46],\n",
              "       [1008, 206, 308, 1, 10.99, 5, 8, 'West', 'Credit Card', 503.0,\n",
              "        10.44],\n",
              "       [1012, 205, 301, 1, 10.99, 0, 1, 'West', 'Debit Card', 503.0,\n",
              "        10.99],\n",
              "       [1016, 207, 301, 2, 10.99, 5, 5, 'West', 'Credit Card', 503.0,\n",
              "        20.88],\n",
              "       [1017, 203, 303, 2, 10.99, 10, 5, 'North', 'PayPal', 502.0, 19.78]],\n",
              "      dtype=object)"
            ]
          },
          "metadata": {},
          "execution_count": 47
        }
      ]
    },
    {
      "cell_type": "code",
      "source": [
        "salespersons = data_array[:, 9]; data_array[np.isin(salespersons, [501.0, 502.0]), :]"
      ],
      "metadata": {
        "colab": {
          "base_uri": "https://localhost:8080/"
        },
        "id": "iPx4543300JR",
        "outputId": "d8ca5bfb-c416-4ec7-94af-314a30b05c4a"
      },
      "execution_count": 48,
      "outputs": [
        {
          "output_type": "execute_result",
          "data": {
            "text/plain": [
              "array([[1004, 206, 307, 2, 7.25, 10, 0, 'West', 'Credit Card', 501.0,\n",
              "        13.05],\n",
              "       [1005, 207, 306, 2, 49.99, 10, 6, 'West', 'PayPal', 502.0, 89.98],\n",
              "       [1006, 208, 308, 1, 12.75, 0, 0, 'East', 'Cash', 502.0, 12.75],\n",
              "       [1009, 204, 304, 5, 25.5, 0, 6, 'South', 'Credit Card', 501.0,\n",
              "        127.5],\n",
              "       [1011, 202, 305, 3, 8.5, 0, 1, 'North', 'PayPal', 501.0, 25.5],\n",
              "       [1013, 206, 307, 2, 25.5, 10, 1, 'North', 'Credit Card', 502.0,\n",
              "        45.9],\n",
              "       [1014, 202, 304, 1, 12.75, 5, 5, 'East', 'Cash', 501.0, 12.11],\n",
              "       [1017, 203, 303, 2, 10.99, 10, 5, 'North', 'PayPal', 502.0, 19.78],\n",
              "       [1019, 208, 304, 2, 7.25, 5, 7, 'South', 'Debit Card', 502.0,\n",
              "        13.78]], dtype=object)"
            ]
          },
          "metadata": {},
          "execution_count": 48
        }
      ]
    },
    {
      "cell_type": "code",
      "source": [
        "data_array[:, 4].astype(float) * data_array[:, 3].astype(int)"
      ],
      "metadata": {
        "colab": {
          "base_uri": "https://localhost:8080/"
        },
        "id": "JlFhbjto1PlS",
        "outputId": "bf40143f-2a0e-4924-96ec-c86dd4fa25a2"
      },
      "execution_count": 49,
      "outputs": [
        {
          "output_type": "execute_result",
          "data": {
            "text/plain": [
              "array([ 17.  ,  43.96,  54.95,  14.5 ,  99.98,  12.75,  21.75,  10.99,\n",
              "       127.5 ,  25.5 ,  25.5 ,  10.99,  51.  ,  12.75, 249.95,  21.98,\n",
              "        21.98, 249.95,  14.5 ,  76.5 ])"
            ]
          },
          "metadata": {},
          "execution_count": 49
        }
      ]
    },
    {
      "cell_type": "code",
      "source": [
        "(data_array[:, 4].astype(float) * data_array[:, 3].astype(int) * data_array[:, 5].astype(int)) / 100.0"
      ],
      "metadata": {
        "id": "rS8BIDIB1Pjy"
      },
      "execution_count": null,
      "outputs": []
    },
    {
      "cell_type": "code",
      "source": [
        "data_array[:, 10].astype(float) > 75"
      ],
      "metadata": {
        "colab": {
          "base_uri": "https://localhost:8080/"
        },
        "id": "yUwtXBD81Pfu",
        "outputId": "4c3bc6d5-54d4-4c36-cafb-a26672947535"
      },
      "execution_count": 50,
      "outputs": [
        {
          "output_type": "execute_result",
          "data": {
            "text/plain": [
              "array([False, False, False, False,  True, False, False, False,  True,\n",
              "       False, False, False, False, False,  True, False, False,  True,\n",
              "       False, False])"
            ]
          },
          "metadata": {},
          "execution_count": 50
        }
      ]
    },
    {
      "cell_type": "code",
      "source": [
        "data_array[:, 10].astype(float) * 1.05"
      ],
      "metadata": {
        "colab": {
          "base_uri": "https://localhost:8080/"
        },
        "id": "7HYsixNl1Pbs",
        "outputId": "b288059b-3c73-441c-a782-882522aa0431"
      },
      "execution_count": 51,
      "outputs": [
        {
          "output_type": "execute_result",
          "data": {
            "text/plain": [
              "array([ 17.85  ,  43.8375,  51.933 ,  13.7025,  94.479 ,  13.3875,\n",
              "        22.8375,  10.962 , 133.875 ,  26.775 ,  26.775 ,  11.5395,\n",
              "        48.195 ,  12.7155, 249.2805,  21.924 ,  20.769 , 249.2805,\n",
              "        14.469 ,  72.2925])"
            ]
          },
          "metadata": {},
          "execution_count": 51
        }
      ]
    },
    {
      "cell_type": "code",
      "source": [
        "np.where(data_array[:, 10].astype(float) > 100, 1, 0)"
      ],
      "metadata": {
        "colab": {
          "base_uri": "https://localhost:8080/"
        },
        "id": "1c6o_PkS1PXf",
        "outputId": "ac1099d4-e153-4471-beab-9a52711b84a3"
      },
      "execution_count": 52,
      "outputs": [
        {
          "output_type": "execute_result",
          "data": {
            "text/plain": [
              "array([0, 0, 0, 0, 0, 0, 0, 0, 1, 0, 0, 0, 0, 0, 1, 0, 0, 1, 0, 0])"
            ]
          },
          "metadata": {},
          "execution_count": 52
        }
      ]
    },
    {
      "cell_type": "code",
      "source": [
        "total_sales = data_array[:, 10].astype(float); quantities = data_array[:, 3].astype(int); np.divide(total_sales, quantities, out=np.zeros_like(total_sales), where=quantities!=0)"
      ],
      "metadata": {
        "colab": {
          "base_uri": "https://localhost:8080/"
        },
        "id": "-F_DtzQk1PRp",
        "outputId": "d9a49339-f98c-457c-f3f4-3befd79c4357"
      },
      "execution_count": 53,
      "outputs": [
        {
          "output_type": "execute_result",
          "data": {
            "text/plain": [
              "array([ 8.5   , 10.4375,  9.892 ,  6.525 , 44.99  , 12.75  ,  7.25  ,\n",
              "       10.44  , 25.5   ,  8.5   ,  8.5   , 10.99  , 22.95  , 12.11  ,\n",
              "       47.482 , 10.44  ,  9.89  , 47.482 ,  6.89  , 22.95  ])"
            ]
          },
          "metadata": {},
          "execution_count": 53
        }
      ]
    },
    {
      "cell_type": "code",
      "source": [
        "(data_array[:, 4].astype(float) * data_array[:, 3].astype(int)) - data_array[:, 10].astype(float)"
      ],
      "metadata": {
        "colab": {
          "base_uri": "https://localhost:8080/"
        },
        "id": "HRNAf4V61PPV",
        "outputId": "21c5da71-7549-47ef-f757-572237e6a4c7"
      },
      "execution_count": 54,
      "outputs": [
        {
          "output_type": "execute_result",
          "data": {
            "text/plain": [
              "array([ 0.  ,  2.21,  5.49,  1.45, 10.  ,  0.  ,  0.  ,  0.55,  0.  ,\n",
              "        0.  ,  0.  ,  0.  ,  5.1 ,  0.64, 12.54,  1.1 ,  2.2 , 12.54,\n",
              "        0.72,  7.65])"
            ]
          },
          "metadata": {},
          "execution_count": 54
        }
      ]
    },
    {
      "cell_type": "code",
      "source": [
        "data_array[:, 3].astype(int) + 5"
      ],
      "metadata": {
        "colab": {
          "base_uri": "https://localhost:8080/"
        },
        "id": "GqI9PWOe1PNN",
        "outputId": "4af0cf5a-91cb-4373-f9aa-d997a789caae"
      },
      "execution_count": 55,
      "outputs": [
        {
          "output_type": "execute_result",
          "data": {
            "text/plain": [
              "array([ 7,  9, 10,  7,  7,  6,  8,  6, 10,  8,  8,  6,  7,  6, 10,  7,  7,\n",
              "       10,  7,  8])"
            ]
          },
          "metadata": {},
          "execution_count": 55
        }
      ]
    },
    {
      "cell_type": "code",
      "source": [
        "unit_prices = data_array[:, 4].astype(float); (unit_prices - np.mean(unit_prices)) / np.std(unit_prices)"
      ],
      "metadata": {
        "colab": {
          "base_uri": "https://localhost:8080/"
        },
        "id": "Wnfi3RD01PLZ",
        "outputId": "8b12f34c-9162-4542-c119-0dfc82f31d01"
      },
      "execution_count": 56,
      "outputs": [
        {
          "output_type": "execute_result",
          "data": {
            "text/plain": [
              "array([-0.67297335, -0.50124721, -0.50124721, -0.75918125,  2.18843926,\n",
              "       -0.37986649, -0.75918125, -0.50124721,  0.49945409, -0.67297335,\n",
              "       -0.67297335, -0.50124721,  0.49945409, -0.37986649,  2.18843926,\n",
              "       -0.50124721, -0.50124721,  2.18843926, -0.75918125,  0.49945409])"
            ]
          },
          "metadata": {},
          "execution_count": 56
        }
      ]
    },
    {
      "cell_type": "code",
      "source": [
        "np.where(data_array[:, 5].astype(int) > 0, 1, 0)"
      ],
      "metadata": {
        "colab": {
          "base_uri": "https://localhost:8080/"
        },
        "id": "cQdG5AjW1PJp",
        "outputId": "2ae865b3-2085-4ff7-bffc-6a8db3954291"
      },
      "execution_count": 57,
      "outputs": [
        {
          "output_type": "execute_result",
          "data": {
            "text/plain": [
              "array([0, 1, 1, 1, 1, 0, 0, 1, 0, 0, 0, 0, 1, 1, 1, 1, 1, 1, 1, 1])"
            ]
          },
          "metadata": {},
          "execution_count": 57
        }
      ]
    },
    {
      "cell_type": "code",
      "source": [
        "online_sales_indices = (data_array[:, 7] == 'Online'); online_total_sales = data_array[online_sales_indices, 10].astype(float); online_total_sales * 0.98"
      ],
      "metadata": {
        "colab": {
          "base_uri": "https://localhost:8080/"
        },
        "id": "IGCYlJQD1PHl",
        "outputId": "0a7eab2a-a8bb-455d-fb8a-a555fa0dbd97"
      },
      "execution_count": 58,
      "outputs": [
        {
          "output_type": "execute_result",
          "data": {
            "text/plain": [
              "array([ 40.915 ,  48.4708,  21.315 , 232.6618])"
            ]
          },
          "metadata": {},
          "execution_count": 58
        }
      ]
    },
    {
      "cell_type": "code",
      "source": [
        "total_sales = data_array[:, 10].astype(float); quantities = data_array[:, 3].astype(int); np.divide(total_sales, quantities, out=np.zeros_like(total_sales), where=quantities!=0)"
      ],
      "metadata": {
        "colab": {
          "base_uri": "https://localhost:8080/"
        },
        "id": "Tg0szdOd3la4",
        "outputId": "85029908-22ca-4025-bb6c-97a8c3b73c3e"
      },
      "execution_count": 61,
      "outputs": [
        {
          "output_type": "execute_result",
          "data": {
            "text/plain": [
              "array([ 8.5   , 10.4375,  9.892 ,  6.525 , 44.99  , 12.75  ,  7.25  ,\n",
              "       10.44  , 25.5   ,  8.5   ,  8.5   , 10.99  , 22.95  , 12.11  ,\n",
              "       47.482 , 10.44  ,  9.89  , 47.482 ,  6.89  , 22.95  ])"
            ]
          },
          "metadata": {},
          "execution_count": 61
        }
      ]
    },
    {
      "cell_type": "code",
      "source": [
        "salespersons_float = data_array[:, 9].astype(float); np.where(np.isnan(salespersons_float), -1.0, salespersons_float)"
      ],
      "metadata": {
        "colab": {
          "base_uri": "https://localhost:8080/"
        },
        "id": "S1N5yGlF3lY2",
        "outputId": "51d49a9e-28b4-43c4-fe2d-9d6e28da3f63"
      },
      "execution_count": 62,
      "outputs": [
        {
          "output_type": "execute_result",
          "data": {
            "text/plain": [
              "array([503.,  -1.,  -1., 501., 502., 502.,  -1., 503., 501., 503., 501.,\n",
              "       503., 502., 501.,  -1., 503., 502., 503., 502., 503.])"
            ]
          },
          "metadata": {},
          "execution_count": 62
        }
      ]
    },
    {
      "cell_type": "code",
      "source": [
        "data_array[:, 6].astype(int) % 3"
      ],
      "metadata": {
        "colab": {
          "base_uri": "https://localhost:8080/"
        },
        "id": "gaKvKbGn3lXG",
        "outputId": "188d044c-990a-4d20-cc83-54f1f4771562"
      },
      "execution_count": 63,
      "outputs": [
        {
          "output_type": "execute_result",
          "data": {
            "text/plain": [
              "array([1, 0, 0, 0, 0, 0, 1, 2, 0, 1, 1, 1, 1, 2, 1, 2, 2, 2, 1, 0])"
            ]
          },
          "metadata": {},
          "execution_count": 63
        }
      ]
    },
    {
      "cell_type": "code",
      "source": [
        "total_sales = data_array[:, 10].astype(float); transaction_ids = data_array[:, 0].astype(int); transaction_ids[np.argsort(total_sales)]"
      ],
      "metadata": {
        "colab": {
          "base_uri": "https://localhost:8080/"
        },
        "id": "_TW5s4AX3lVf",
        "outputId": "c39cfd73-8014-426f-9209-aba6ef101ac2"
      },
      "execution_count": 64,
      "outputs": [
        {
          "output_type": "execute_result",
          "data": {
            "text/plain": [
              "array([1008, 1012, 1014, 1006, 1004, 1019, 1001, 1017, 1016, 1007, 1011,\n",
              "       1010, 1002, 1013, 1003, 1020, 1005, 1009, 1015, 1018])"
            ]
          },
          "metadata": {},
          "execution_count": 64
        }
      ]
    },
    {
      "cell_type": "code",
      "source": [
        "np.sort(data_array[:, 3].astype(int))[-3:]"
      ],
      "metadata": {
        "colab": {
          "base_uri": "https://localhost:8080/"
        },
        "id": "DQIoVpK-3lTL",
        "outputId": "09aef91c-2a16-4d9e-d104-ed3c9904830d"
      },
      "execution_count": 65,
      "outputs": [
        {
          "output_type": "execute_result",
          "data": {
            "text/plain": [
              "array([5, 5, 5])"
            ]
          },
          "metadata": {},
          "execution_count": 65
        }
      ]
    },
    {
      "cell_type": "code",
      "source": [
        "total_sales = data_array[:, 10].astype(float); data_array[np.argmax(total_sales), 7]"
      ],
      "metadata": {
        "colab": {
          "base_uri": "https://localhost:8080/",
          "height": 35
        },
        "id": "N868a4sQ3lPP",
        "outputId": "f6cfe4cb-b230-4e54-c09a-bc5424fce42e"
      },
      "execution_count": 66,
      "outputs": [
        {
          "output_type": "execute_result",
          "data": {
            "text/plain": [
              "'Online'"
            ],
            "application/vnd.google.colaboratory.intrinsic+json": {
              "type": "string"
            }
          },
          "metadata": {},
          "execution_count": 66
        }
      ]
    },
    {
      "cell_type": "code",
      "source": [
        "np.sort(np.unique(data_array[:, 8].astype(str)))"
      ],
      "metadata": {
        "colab": {
          "base_uri": "https://localhost:8080/"
        },
        "id": "6x9pFuqh3lMw",
        "outputId": "6fb43a9e-c0ad-4b29-e184-c97f43a03e7d"
      },
      "execution_count": 67,
      "outputs": [
        {
          "output_type": "execute_result",
          "data": {
            "text/plain": [
              "array(['Cash', 'Credit Card', 'Debit Card', 'PayPal'], dtype='<U11')"
            ]
          },
          "metadata": {},
          "execution_count": 67
        }
      ]
    },
    {
      "cell_type": "code",
      "source": [
        "customer_ids = data_array[:, 1].astype(int); data_array[np.argsort(customer_ids)]"
      ],
      "metadata": {
        "colab": {
          "base_uri": "https://localhost:8080/"
        },
        "id": "ly_2ugRI3lKq",
        "outputId": "49a0c51f-00ab-4d0a-9341-deb2e61ab9c0"
      },
      "execution_count": 68,
      "outputs": [
        {
          "output_type": "execute_result",
          "data": {
            "text/plain": [
              "array([[1014, 202, 304, 1, 12.75, 5, 5, 'East', 'Cash', 501.0, 12.11],\n",
              "       [1011, 202, 305, 3, 8.5, 0, 1, 'North', 'PayPal', 501.0, 25.5],\n",
              "       [1018, 202, 302, 5, 49.99, 5, 8, 'North', 'Credit Card', 503.0,\n",
              "        237.41],\n",
              "       [1017, 203, 303, 2, 10.99, 10, 5, 'North', 'PayPal', 502.0, 19.78],\n",
              "       [1009, 204, 304, 5, 25.5, 0, 6, 'South', 'Credit Card', 501.0,\n",
              "        127.5],\n",
              "       [1003, 205, 301, 5, 10.99, 10, 6, 'Online', 'PayPal', nan, 49.46],\n",
              "       [1012, 205, 301, 1, 10.99, 0, 1, 'West', 'Debit Card', 503.0,\n",
              "        10.99],\n",
              "       [1002, 206, 305, 4, 10.99, 5, 6, 'Online', 'Cash', nan, 41.75],\n",
              "       [1013, 206, 307, 2, 25.5, 10, 1, 'North', 'Credit Card', 502.0,\n",
              "        45.9],\n",
              "       [1007, 206, 302, 3, 7.25, 0, 1, 'Online', 'PayPal', nan, 21.75],\n",
              "       [1004, 206, 307, 2, 7.25, 10, 0, 'West', 'Credit Card', 501.0,\n",
              "        13.05],\n",
              "       [1008, 206, 308, 1, 10.99, 5, 8, 'West', 'Credit Card', 503.0,\n",
              "        10.44],\n",
              "       [1020, 206, 305, 3, 25.5, 10, 0, 'South', 'Debit Card', 503.0,\n",
              "        68.85],\n",
              "       [1016, 207, 301, 2, 10.99, 5, 5, 'West', 'Credit Card', 503.0,\n",
              "        20.88],\n",
              "       [1001, 207, 307, 2, 8.5, 0, 4, 'West', 'PayPal', 503.0, 17.0],\n",
              "       [1005, 207, 306, 2, 49.99, 10, 6, 'West', 'PayPal', 502.0, 89.98],\n",
              "       [1006, 208, 308, 1, 12.75, 0, 0, 'East', 'Cash', 502.0, 12.75],\n",
              "       [1015, 208, 303, 5, 49.99, 5, 4, 'Online', 'Credit Card', nan,\n",
              "        237.41],\n",
              "       [1019, 208, 304, 2, 7.25, 5, 7, 'South', 'Debit Card', 502.0,\n",
              "        13.78],\n",
              "       [1010, 210, 302, 3, 8.5, 0, 4, 'North', 'Debit Card', 503.0, 25.5]],\n",
              "      dtype=object)"
            ]
          },
          "metadata": {},
          "execution_count": 68
        }
      ]
    },
    {
      "cell_type": "code",
      "source": [
        "unit_prices = data_array[:, 4].astype(float); transaction_ids = data_array[:, 0].astype(int); transaction_ids[np.argsort(unit_prices)[:5]]"
      ],
      "metadata": {
        "colab": {
          "base_uri": "https://localhost:8080/"
        },
        "id": "cPEWWUn84P83",
        "outputId": "01d5537a-81ac-485c-f8c1-d8bc2dac974b"
      },
      "execution_count": 69,
      "outputs": [
        {
          "output_type": "execute_result",
          "data": {
            "text/plain": [
              "array([1004, 1007, 1019, 1001, 1011])"
            ]
          },
          "metadata": {},
          "execution_count": 69
        }
      ]
    },
    {
      "cell_type": "code",
      "source": [
        "discounts = data_array[:, 5].astype(int); salespersons = data_array[:, 9]; non_zero_discount_indices = (discounts > 0); salespersons[non_zero_discount_indices][np.argmin(discounts[non_zero_discount_indices])]"
      ],
      "metadata": {
        "colab": {
          "base_uri": "https://localhost:8080/"
        },
        "id": "uoBBv7Wq4P6s",
        "outputId": "f96227bf-4ede-4c87-85a4-abea9d2b89dd"
      },
      "execution_count": 70,
      "outputs": [
        {
          "output_type": "execute_result",
          "data": {
            "text/plain": [
              "nan"
            ]
          },
          "metadata": {},
          "execution_count": 70
        }
      ]
    },
    {
      "cell_type": "code",
      "source": [
        "store_locations = data_array[:, 7].astype(str); total_sales = data_array[:, 10].astype(float); total_sales[np.argsort(store_locations)]"
      ],
      "metadata": {
        "colab": {
          "base_uri": "https://localhost:8080/"
        },
        "id": "7_Vysqjc4P4y",
        "outputId": "25dda3d0-c34b-4af6-f643-33810423598e"
      },
      "execution_count": 71,
      "outputs": [
        {
          "output_type": "execute_result",
          "data": {
            "text/plain": [
              "array([ 12.75,  12.11,  25.5 , 237.41,  19.78,  45.9 ,  25.5 ,  41.75,\n",
              "        49.46,  21.75, 237.41,  68.85,  13.78, 127.5 ,  10.44,  20.88,\n",
              "        89.98,  13.05,  10.99,  17.  ])"
            ]
          },
          "metadata": {},
          "execution_count": 71
        }
      ]
    },
    {
      "cell_type": "code",
      "source": [
        "total_sales = data_array[:, 10].astype(float); product_ids = data_array[:, 2].astype(int); sorted_indices = np.argsort(total_sales); median_index_in_sorted = (len(total_sales) - 1) // 2; product_ids[sorted_indices[median_index_in_sorted]]"
      ],
      "metadata": {
        "colab": {
          "base_uri": "https://localhost:8080/"
        },
        "id": "vzmf8N0R4P24",
        "outputId": "888a2f94-5147-4a33-961c-05cd8e8b1aa1"
      },
      "execution_count": 72,
      "outputs": [
        {
          "output_type": "execute_result",
          "data": {
            "text/plain": [
              "np.int64(302)"
            ]
          },
          "metadata": {},
          "execution_count": 72
        }
      ]
    },
    {
      "cell_type": "code",
      "source": [
        "product_ids = data_array[:, 2].astype(int); _, idx = np.unique(product_ids, return_index=True); product_ids[np.sort(idx)]"
      ],
      "metadata": {
        "colab": {
          "base_uri": "https://localhost:8080/"
        },
        "id": "87GxNoWr4P0r",
        "outputId": "9f0858da-1d2b-4bad-e081-1cacb3e2490d"
      },
      "execution_count": 73,
      "outputs": [
        {
          "output_type": "execute_result",
          "data": {
            "text/plain": [
              "array([307, 305, 301, 306, 308, 302, 304, 303])"
            ]
          },
          "metadata": {},
          "execution_count": 73
        }
      ]
    },
    {
      "cell_type": "code",
      "source": [
        "# Pure NumPy way\n",
        "unique_locs = np.unique(data_array[:, 7].astype(str))\n",
        "sum_sales_per_loc = {loc: np.sum(data_array[data_array[:, 7] == loc, 10].astype(float)) for loc in unique_locs}\n",
        "# sum_sales_per_loc will be a dict"
      ],
      "metadata": {
        "id": "7jBdwClT4Pye"
      },
      "execution_count": 74,
      "outputs": []
    },
    {
      "cell_type": "code",
      "source": [
        "unique_locs"
      ],
      "metadata": {
        "colab": {
          "base_uri": "https://localhost:8080/"
        },
        "id": "cMPn1gII49Cc",
        "outputId": "0bcb32e5-6a5d-4346-e12f-55a24debfc38"
      },
      "execution_count": 84,
      "outputs": [
        {
          "output_type": "execute_result",
          "data": {
            "text/plain": [
              "array(['East', 'North', 'Online', 'South', 'West'], dtype='<U6')"
            ]
          },
          "metadata": {},
          "execution_count": 84
        }
      ]
    },
    {
      "cell_type": "code",
      "source": [
        "unique_pays, counts = np.unique(data_array[:, 8].astype(str), return_counts=True)\n",
        "# dict(zip(unique_pays, counts))"
      ],
      "metadata": {
        "id": "X9OU88rD4PuT"
      },
      "execution_count": 76,
      "outputs": []
    },
    {
      "cell_type": "code",
      "source": [
        "unique_pays, counts"
      ],
      "metadata": {
        "colab": {
          "base_uri": "https://localhost:8080/"
        },
        "id": "XUjEBO0z46BL",
        "outputId": "5e157ad7-1f7e-477c-9aa6-06cef1f5ae7d"
      },
      "execution_count": 83,
      "outputs": [
        {
          "output_type": "execute_result",
          "data": {
            "text/plain": [
              "(array(['Cash', 'Credit Card', 'Debit Card', 'PayPal'], dtype='<U11'),\n",
              " array([3, 7, 4, 6]))"
            ]
          },
          "metadata": {},
          "execution_count": 83
        }
      ]
    },
    {
      "cell_type": "code",
      "source": [
        "salespersons_float = data_array[:, 9].astype(float)\n",
        "valid_sp_indices = ~np.isnan(salespersons_float)\n",
        "unique_sps = np.unique(salespersons_float[valid_sp_indices])\n",
        "avg_disc_per_sp = {sp: np.mean(data_array[(salespersons_float == sp) & valid_sp_indices, 5].astype(int)) for sp in unique_sps}\n",
        "# avg_disc_per_sp"
      ],
      "metadata": {
        "id": "KwEzpMo94PsN"
      },
      "execution_count": 78,
      "outputs": []
    },
    {
      "cell_type": "code",
      "source": [
        "salespersons_float"
      ],
      "metadata": {
        "colab": {
          "base_uri": "https://localhost:8080/"
        },
        "id": "GVuXqd_C43ZT",
        "outputId": "b1fc0a43-7734-4ab1-cd10-f64e94609f36"
      },
      "execution_count": 82,
      "outputs": [
        {
          "output_type": "execute_result",
          "data": {
            "text/plain": [
              "array([503.,  nan,  nan, 501., 502., 502.,  nan, 503., 501., 503., 501.,\n",
              "       503., 502., 501.,  nan, 503., 502., 503., 502., 503.])"
            ]
          },
          "metadata": {},
          "execution_count": 82
        }
      ]
    },
    {
      "cell_type": "code",
      "source": [
        "unique_prods = np.unique(data_array[:, 2].astype(int))\n",
        "max_qty_per_prod = {prod: np.max(data_array[data_array[:, 2].astype(int) == prod, 3].astype(int)) for prod in unique_prods}\n",
        "# max_qty_per_prod"
      ],
      "metadata": {
        "id": "DtbPhxus4Pqd"
      },
      "execution_count": 79,
      "outputs": []
    },
    {
      "cell_type": "code",
      "source": [
        "unique_prods"
      ],
      "metadata": {
        "colab": {
          "base_uri": "https://localhost:8080/"
        },
        "id": "6ybGyhjF40OA",
        "outputId": "9d12e3f7-1bba-4585-850d-16177d42b967"
      },
      "execution_count": 81,
      "outputs": [
        {
          "output_type": "execute_result",
          "data": {
            "text/plain": [
              "array([301, 302, 303, 304, 305, 306, 307, 308])"
            ]
          },
          "metadata": {},
          "execution_count": 81
        }
      ]
    },
    {
      "cell_type": "code",
      "source": [
        "unique_days = np.unique(data_array[:, 6].astype(int))\n",
        "qty_per_day = {day: np.sum(data_array[data_array[:, 6].astype(int) == day, 3].astype(int)) for day in unique_days}\n",
        "# qty_per_day"
      ],
      "metadata": {
        "id": "FIRQDgJ44PoM"
      },
      "execution_count": 80,
      "outputs": []
    },
    {
      "cell_type": "code",
      "source": [
        "unique_days"
      ],
      "metadata": {
        "colab": {
          "base_uri": "https://localhost:8080/"
        },
        "id": "dReiVAnR4_xf",
        "outputId": "196b3a3c-ab50-41cd-d96e-94be722c9218"
      },
      "execution_count": 85,
      "outputs": [
        {
          "output_type": "execute_result",
          "data": {
            "text/plain": [
              "array([0, 1, 4, 5, 6, 7, 8])"
            ]
          },
          "metadata": {},
          "execution_count": 85
        }
      ]
    },
    {
      "cell_type": "code",
      "source": [
        "paypal_transactions = data_array[data_array[:, 8] == 'PayPal', :]"
      ],
      "metadata": {
        "id": "aaOQfEES4PmI"
      },
      "execution_count": 87,
      "outputs": []
    },
    {
      "cell_type": "code",
      "source": [
        "paypal_transactions"
      ],
      "metadata": {
        "colab": {
          "base_uri": "https://localhost:8080/"
        },
        "id": "lAVrKTLH4Phv",
        "outputId": "12942fb6-ce17-42b8-e5b1-8ef376563376"
      },
      "execution_count": 88,
      "outputs": [
        {
          "output_type": "execute_result",
          "data": {
            "text/plain": [
              "array([[1001, 207, 307, 2, 8.5, 0, 4, 'West', 'PayPal', 503.0, 17.0],\n",
              "       [1003, 205, 301, 5, 10.99, 10, 6, 'Online', 'PayPal', nan, 49.46],\n",
              "       [1005, 207, 306, 2, 49.99, 10, 6, 'West', 'PayPal', 502.0, 89.98],\n",
              "       [1007, 206, 302, 3, 7.25, 0, 1, 'Online', 'PayPal', nan, 21.75],\n",
              "       [1011, 202, 305, 3, 8.5, 0, 1, 'North', 'PayPal', 501.0, 25.5],\n",
              "       [1017, 203, 303, 2, 10.99, 10, 5, 'North', 'PayPal', 502.0, 19.78]],\n",
              "      dtype=object)"
            ]
          },
          "metadata": {},
          "execution_count": 88
        }
      ]
    },
    {
      "cell_type": "code",
      "source": [
        "product_ids = data_array[:, 2].astype(int); total_sales = data_array[:, 10].astype(float); np.mean(total_sales[product_ids == 301])"
      ],
      "metadata": {
        "colab": {
          "base_uri": "https://localhost:8080/"
        },
        "id": "n1RCoyMA5NA4",
        "outputId": "d10b6cfa-664c-4a78-8f26-4235db5df8e1"
      },
      "execution_count": 89,
      "outputs": [
        {
          "output_type": "execute_result",
          "data": {
            "text/plain": [
              "np.float64(27.11)"
            ]
          },
          "metadata": {},
          "execution_count": 89
        }
      ]
    },
    {
      "cell_type": "code",
      "source": [
        "np.sum((data_array[:, 7] == 'Online') & (data_array[:, 8] == 'Credit Card'))"
      ],
      "metadata": {
        "colab": {
          "base_uri": "https://localhost:8080/"
        },
        "id": "qylinQgK5M-t",
        "outputId": "fbd1a5b2-b67f-41cb-eb74-f80b3908466f"
      },
      "execution_count": 90,
      "outputs": [
        {
          "output_type": "execute_result",
          "data": {
            "text/plain": [
              "np.int64(1)"
            ]
          },
          "metadata": {},
          "execution_count": 90
        }
      ]
    },
    {
      "cell_type": "code",
      "source": [
        "unique_cust = np.unique(data_array[:, 1].astype(int))\n",
        "total_disc_per_cust = {cust: np.sum(data_array[data_array[:, 1].astype(int) == cust, 5].astype(int)) for cust in unique_cust}\n",
        "# total_disc_per_cust"
      ],
      "metadata": {
        "id": "WJFZetFr5M8u"
      },
      "execution_count": null,
      "outputs": []
    },
    {
      "cell_type": "code",
      "source": [
        "payment_types = data_array[:, 8]; unit_prices = data_array[:, 4].astype(float); np.min(unit_prices[payment_types == 'Cash'])"
      ],
      "metadata": {
        "colab": {
          "base_uri": "https://localhost:8080/"
        },
        "id": "GLwRIXdI5M4V",
        "outputId": "79ecc810-7caf-4ea9-bdc0-c37bd91d3e29"
      },
      "execution_count": 92,
      "outputs": [
        {
          "output_type": "execute_result",
          "data": {
            "text/plain": [
              "np.float64(10.99)"
            ]
          },
          "metadata": {},
          "execution_count": 92
        }
      ]
    },
    {
      "cell_type": "code",
      "source": [
        "salespersons = data_array[:, 9]; quantities = data_array[:, 3].astype(int); np.sum(quantities[salespersons == 502.0])"
      ],
      "metadata": {
        "colab": {
          "base_uri": "https://localhost:8080/"
        },
        "id": "4PG-cNAq5M12",
        "outputId": "9d81eb00-d1dc-4e22-fccc-f3d3e585b7d6"
      },
      "execution_count": 93,
      "outputs": [
        {
          "output_type": "execute_result",
          "data": {
            "text/plain": [
              "np.int64(9)"
            ]
          },
          "metadata": {},
          "execution_count": 93
        }
      ]
    },
    {
      "cell_type": "code",
      "source": [
        "unique_prods = np.unique(data_array[:, 2].astype(int))\n",
        "avg_sale_per_prod = {prod: np.mean(data_array[data_array[:, 2].astype(int) == prod, 10].astype(float)) for prod in unique_prods}\n",
        "# avg_sale_per_prod"
      ],
      "metadata": {
        "id": "qLJX5-ti5Mzu"
      },
      "execution_count": 94,
      "outputs": []
    },
    {
      "cell_type": "code",
      "source": [
        "unique_prods"
      ],
      "metadata": {
        "colab": {
          "base_uri": "https://localhost:8080/"
        },
        "id": "jl8VGC-C5Mxd",
        "outputId": "c79b8489-c577-475f-cdba-6c6f712defa2"
      },
      "execution_count": 95,
      "outputs": [
        {
          "output_type": "execute_result",
          "data": {
            "text/plain": [
              "array([301, 302, 303, 304, 305, 306, 307, 308])"
            ]
          },
          "metadata": {},
          "execution_count": 95
        }
      ]
    },
    {
      "cell_type": "code",
      "source": [
        "unique_pays = np.unique(data_array[:, 8].astype(str))\n",
        "avg_sales = np.array([np.mean(data_array[data_array[:, 8] == pay, 10].astype(float)) for pay in unique_pays])\n",
        "# unique_pays[np.argmax(avg_sales)]"
      ],
      "metadata": {
        "id": "5RB96hVR5Mv0"
      },
      "execution_count": 96,
      "outputs": []
    },
    {
      "cell_type": "code",
      "source": [
        "unique_pays"
      ],
      "metadata": {
        "colab": {
          "base_uri": "https://localhost:8080/"
        },
        "id": "_N_-i5lH5MtM",
        "outputId": "1ee52fbf-18af-4e09-80b6-836698ac1448"
      },
      "execution_count": 97,
      "outputs": [
        {
          "output_type": "execute_result",
          "data": {
            "text/plain": [
              "array(['Cash', 'Credit Card', 'Debit Card', 'PayPal'], dtype='<U11')"
            ]
          },
          "metadata": {},
          "execution_count": 97
        }
      ]
    },
    {
      "cell_type": "code",
      "source": [
        "np.corrcoef(data_array[:, 3].astype(int), data_array[:, 10].astype(float))[0, 1]"
      ],
      "metadata": {
        "colab": {
          "base_uri": "https://localhost:8080/"
        },
        "id": "3IbUTCP15Mq5",
        "outputId": "d4b0b13e-6709-4648-9722-cd14a70f027e"
      },
      "execution_count": 98,
      "outputs": [
        {
          "output_type": "execute_result",
          "data": {
            "text/plain": [
              "np.float64(0.7301544743648399)"
            ]
          },
          "metadata": {},
          "execution_count": 98
        }
      ]
    },
    {
      "cell_type": "code",
      "source": [
        "total_sales = data_array[:, 10].astype(float); mean_ts = np.mean(total_sales); std_ts = np.std(total_sales); np.sum(total_sales > (mean_ts + 2 * std_ts))"
      ],
      "metadata": {
        "colab": {
          "base_uri": "https://localhost:8080/"
        },
        "id": "CkzLpA245Mmw",
        "outputId": "76bd82fb-5e6b-49b1-8da6-2bfb7013e0d2"
      },
      "execution_count": 99,
      "outputs": [
        {
          "output_type": "execute_result",
          "data": {
            "text/plain": [
              "np.int64(2)"
            ]
          },
          "metadata": {},
          "execution_count": 99
        }
      ]
    },
    {
      "cell_type": "code",
      "source": [
        "np.where(data_array[:, 5].astype(int) > 0, \"Discounted\", \"No Discount\")"
      ],
      "metadata": {
        "colab": {
          "base_uri": "https://localhost:8080/"
        },
        "id": "M-XrGqdL5MhL",
        "outputId": "04109a0a-1ca4-442d-e1b5-12ca5d0b6e2d"
      },
      "execution_count": 100,
      "outputs": [
        {
          "output_type": "execute_result",
          "data": {
            "text/plain": [
              "array(['No Discount', 'Discounted', 'Discounted', 'Discounted',\n",
              "       'Discounted', 'No Discount', 'No Discount', 'Discounted',\n",
              "       'No Discount', 'No Discount', 'No Discount', 'No Discount',\n",
              "       'Discounted', 'Discounted', 'Discounted', 'Discounted',\n",
              "       'Discounted', 'Discounted', 'Discounted', 'Discounted'],\n",
              "      dtype='<U11')"
            ]
          },
          "metadata": {},
          "execution_count": 100
        }
      ]
    },
    {
      "cell_type": "code",
      "source": [
        "np.percentile(data_array[:, 4].astype(float), 75)"
      ],
      "metadata": {
        "colab": {
          "base_uri": "https://localhost:8080/"
        },
        "id": "jLJeMIIc5Mc1",
        "outputId": "13ea78b9-ac97-4595-d81d-efe5d8972c52"
      },
      "execution_count": 102,
      "outputs": [
        {
          "output_type": "execute_result",
          "data": {
            "text/plain": [
              "np.float64(25.5)"
            ]
          },
          "metadata": {},
          "execution_count": 102
        }
      ]
    },
    {
      "cell_type": "code",
      "source": [
        "quantities = data_array[:, 3].astype(int); discounts = data_array[:, 5].astype(int); avg_qty = np.mean(quantities); np.mean(discounts[quantities > avg_qty])"
      ],
      "metadata": {
        "colab": {
          "base_uri": "https://localhost:8080/"
        },
        "id": "aNn-hTvV5MRh",
        "outputId": "f97ca2f4-f931-4358-b235-7b0c6e0f140b"
      },
      "execution_count": 103,
      "outputs": [
        {
          "output_type": "execute_result",
          "data": {
            "text/plain": [
              "np.float64(3.888888888888889)"
            ]
          },
          "metadata": {},
          "execution_count": 103
        }
      ]
    },
    {
      "cell_type": "code",
      "source": [
        "total_sales = data_array[:, 10].astype(float); store_locations = data_array[:, 7]; (np.sum(total_sales[store_locations == 'West']) / np.sum(total_sales)) * 100"
      ],
      "metadata": {
        "colab": {
          "base_uri": "https://localhost:8080/"
        },
        "id": "c5-rHu5K5MPJ",
        "outputId": "9ed656be-43ea-4936-f034-393266da6bbb"
      },
      "execution_count": 104,
      "outputs": [
        {
          "output_type": "execute_result",
          "data": {
            "text/plain": [
              "np.float64(14.734205247823997)"
            ]
          },
          "metadata": {},
          "execution_count": 104
        }
      ]
    },
    {
      "cell_type": "code",
      "source": [
        "customer_product_pairs = np.column_stack((data_array[:, 1].astype(int), data_array[:, 2].astype(int))); len(np.unique(customer_product_pairs, axis=0))"
      ],
      "metadata": {
        "colab": {
          "base_uri": "https://localhost:8080/"
        },
        "id": "Lgk6xfmf6TdA",
        "outputId": "2bc5c3c1-21b5-4505-8615-2c451686d5cb"
      },
      "execution_count": 105,
      "outputs": [
        {
          "output_type": "execute_result",
          "data": {
            "text/plain": [
              "17"
            ]
          },
          "metadata": {},
          "execution_count": 105
        }
      ]
    },
    {
      "cell_type": "code",
      "source": [
        "total_sales = data_array[:, 10].astype(float); p10 = np.percentile(total_sales, 10); p90 = np.percentile(total_sales, 90); transaction_ids = data_array[:, 0].astype(int); transaction_ids[(total_sales > p10) & (total_sales < p90)]"
      ],
      "metadata": {
        "colab": {
          "base_uri": "https://localhost:8080/"
        },
        "id": "qUjyFqby6TZe",
        "outputId": "3b911844-adf3-4477-fefa-69aa99d25b67"
      },
      "execution_count": 106,
      "outputs": [
        {
          "output_type": "execute_result",
          "data": {
            "text/plain": [
              "array([1001, 1002, 1003, 1004, 1005, 1006, 1007, 1009, 1010, 1011, 1013,\n",
              "       1014, 1016, 1017, 1019, 1020])"
            ]
          },
          "metadata": {},
          "execution_count": 106
        }
      ]
    },
    {
      "cell_type": "code",
      "source": [
        "salespersons = data_array[:, 9]; store_locations = data_array[:, 7]; quantities = data_array[:, 3].astype(int); np.sum(quantities[(salespersons == 503.0) & (store_locations == 'North')])"
      ],
      "metadata": {
        "colab": {
          "base_uri": "https://localhost:8080/"
        },
        "id": "pC99W3Wt6TXh",
        "outputId": "93cd14ea-dd82-4711-cb18-3e9a06b5750f"
      },
      "execution_count": 107,
      "outputs": [
        {
          "output_type": "execute_result",
          "data": {
            "text/plain": [
              "np.int64(8)"
            ]
          },
          "metadata": {},
          "execution_count": 107
        }
      ]
    },
    {
      "cell_type": "code",
      "source": [
        "total_sales = data_array[:, 10].astype(float); ranks = np.empty_like(total_sales, dtype=int); ranks[np.argsort(np.argsort(total_sales))] = np.arange(len(total_sales)) + 1; ranks_col_only = ranks.reshape(-1,1); # To replace in a copy: new_array = data_array.copy(); new_array[:, 10] = ranks"
      ],
      "metadata": {
        "id": "xzKbLHYy6TVv"
      },
      "execution_count": 109,
      "outputs": []
    },
    {
      "cell_type": "code",
      "source": [
        "total_sales"
      ],
      "metadata": {
        "colab": {
          "base_uri": "https://localhost:8080/"
        },
        "id": "AeniQ-cD65bY",
        "outputId": "00da5476-c041-4a74-a31c-ca07ae306b43"
      },
      "execution_count": 113,
      "outputs": [
        {
          "output_type": "execute_result",
          "data": {
            "text/plain": [
              "array([ 17.  ,  41.75,  49.46,  13.05,  89.98,  12.75,  21.75,  10.44,\n",
              "       127.5 ,  25.5 ,  25.5 ,  10.99,  45.9 ,  12.11, 237.41,  20.88,\n",
              "        19.78, 237.41,  13.78,  68.85])"
            ]
          },
          "metadata": {},
          "execution_count": 113
        }
      ]
    },
    {
      "cell_type": "code",
      "source": [
        "transaction_days = data_array[:, 6].astype(int); total_sales = data_array[:, 10].astype(float); np.sum(total_sales[np.isin(transaction_days, [0, 1, 2])])"
      ],
      "metadata": {
        "colab": {
          "base_uri": "https://localhost:8080/"
        },
        "id": "hwO24jC16TUF",
        "outputId": "82a40987-d809-4db5-eeb4-6115a0d745a4"
      },
      "execution_count": 110,
      "outputs": [
        {
          "output_type": "execute_result",
          "data": {
            "text/plain": [
              "np.float64(198.79)"
            ]
          },
          "metadata": {},
          "execution_count": 110
        }
      ]
    },
    {
      "cell_type": "code",
      "source": [
        "west_payments = data_array[data_array[:, 7] == 'West', 8].astype(str)"
      ],
      "metadata": {
        "id": "T7IyL7ea6TSi"
      },
      "execution_count": 111,
      "outputs": []
    },
    {
      "cell_type": "code",
      "source": [
        "west_payments"
      ],
      "metadata": {
        "colab": {
          "base_uri": "https://localhost:8080/"
        },
        "id": "2-GTT0ep6TQv",
        "outputId": "d6b74914-4aec-4378-f58e-fb0bb06ba6aa"
      },
      "execution_count": 112,
      "outputs": [
        {
          "output_type": "execute_result",
          "data": {
            "text/plain": [
              "array(['PayPal', 'Credit Card', 'PayPal', 'Credit Card', 'Debit Card',\n",
              "       'Credit Card'], dtype='<U11')"
            ]
          },
          "metadata": {},
          "execution_count": 112
        }
      ]
    },
    {
      "cell_type": "code",
      "source": [
        "total_sales = data_array[:, 10].astype(float); np.sum(np.isclose(total_sales, np.round(total_sales)))"
      ],
      "metadata": {
        "colab": {
          "base_uri": "https://localhost:8080/"
        },
        "id": "jhR3S9Zf6TPM",
        "outputId": "f7bcf8b6-f7a9-4c4a-a4d6-2118bf952d00"
      },
      "execution_count": 114,
      "outputs": [
        {
          "output_type": "execute_result",
          "data": {
            "text/plain": [
              "np.int64(1)"
            ]
          },
          "metadata": {},
          "execution_count": 114
        }
      ]
    },
    {
      "cell_type": "code",
      "source": [
        "np.average(data_array[:, 5].astype(int), weights=data_array[:, 3].astype(int))"
      ],
      "metadata": {
        "colab": {
          "base_uri": "https://localhost:8080/"
        },
        "id": "Gp8UccTc6TKg",
        "outputId": "4a9ec32c-430e-4dea-c610-4acf46f0c2a2"
      },
      "execution_count": 115,
      "outputs": [
        {
          "output_type": "execute_result",
          "data": {
            "text/plain": [
              "np.float64(4.814814814814815)"
            ]
          },
          "metadata": {},
          "execution_count": 115
        }
      ]
    },
    {
      "cell_type": "code",
      "source": [
        "salespersons = data_array[:, 9]; store_locations = data_array[:, 7]; transaction_ids = data_array[:, 0].astype(int); nan_salesperson_indices = np.array([x is np.nan for x in salespersons]); transaction_ids[nan_salesperson_indices & (store_locations == 'Online')]"
      ],
      "metadata": {
        "colab": {
          "base_uri": "https://localhost:8080/"
        },
        "id": "sGnn6jR56TIR",
        "outputId": "bc27910e-5d1e-42d0-e7c3-b46f7bfaeb56"
      },
      "execution_count": 116,
      "outputs": [
        {
          "output_type": "execute_result",
          "data": {
            "text/plain": [
              "array([1002, 1003, 1007, 1015])"
            ]
          },
          "metadata": {},
          "execution_count": 116
        }
      ]
    },
    {
      "cell_type": "code",
      "source": [],
      "metadata": {
        "id": "fjaFlQpR6TGF"
      },
      "execution_count": null,
      "outputs": []
    },
    {
      "cell_type": "code",
      "source": [],
      "metadata": {
        "id": "Plm-qaNg6TDe"
      },
      "execution_count": null,
      "outputs": []
    }
  ]
}