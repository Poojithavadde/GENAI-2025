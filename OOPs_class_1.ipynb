{
  "nbformat": 4,
  "nbformat_minor": 0,
  "metadata": {
    "colab": {
      "provenance": []
    },
    "kernelspec": {
      "name": "python3",
      "display_name": "Python 3"
    },
    "language_info": {
      "name": "python"
    }
  },
  "cells": [
    {
      "cell_type": "code",
      "execution_count": 21,
      "metadata": {
        "colab": {
          "base_uri": "https://localhost:8080/",
          "height": 36
        },
        "id": "u32MGr1DtKPB",
        "outputId": "0d00f08d-d0c5-498c-8aee-ddec4224c36a"
      },
      "outputs": [
        {
          "output_type": "execute_result",
          "data": {
            "text/plain": [
              "'hello test'"
            ],
            "application/vnd.google.colaboratory.intrinsic+json": {
              "type": "string"
            }
          },
          "metadata": {},
          "execution_count": 21
        }
      ],
      "source": [
        "class Name:\n",
        "  def greet(self):\n",
        "    return \"hello \"+self.name\n",
        "p1=Name()\n",
        "p1.name=\"test\"\n",
        "p1.greet()"
      ]
    },
    {
      "cell_type": "code",
      "source": [
        "class Name1:\n",
        "  def __init__(self,name):\n",
        "    self.x=name\n",
        "  def greet(self):\n",
        "    return \"hello \"+self.x"
      ],
      "metadata": {
        "id": "G0cRYqlvu2Z2"
      },
      "execution_count": 23,
      "outputs": []
    },
    {
      "cell_type": "code",
      "source": [
        "p1=Name1(\"test\")\n",
        "p1.greet()"
      ],
      "metadata": {
        "colab": {
          "base_uri": "https://localhost:8080/",
          "height": 36
        },
        "id": "TtyV1TJ2u2Wb",
        "outputId": "83e6a17b-d39e-454d-c0c9-c0d5a0552b5e"
      },
      "execution_count": 25,
      "outputs": [
        {
          "output_type": "execute_result",
          "data": {
            "text/plain": [
              "'hello test'"
            ],
            "application/vnd.google.colaboratory.intrinsic+json": {
              "type": "string"
            }
          },
          "metadata": {},
          "execution_count": 25
        }
      ]
    },
    {
      "cell_type": "code",
      "source": [
        "class Marks:\n",
        " def __init__(self,marks,attendance):\n",
        "    self.marks=marks\n",
        "    self.attendance=attendance\n",
        " def grade(self):\n",
        "    if self.marks<35:\n",
        "      return \"fail\"\n",
        "    elif self.marks<60:\n",
        "      return \"3rd class\"\n",
        "    elif self.marks<100:\n",
        "      return \"1st class\"\n",
        " def attendance_grade(self):\n",
        "    if self.attendance<100:\n",
        "      return \"fail\"\n",
        "    elif self.attendance<200:\n",
        "      return \"pass\"\n",
        "\n",
        "student1=Marks(91,199)\n",
        "student1.attendance_grade()"
      ],
      "metadata": {
        "colab": {
          "base_uri": "https://localhost:8080/",
          "height": 36
        },
        "id": "9KaJojR8u2U6",
        "outputId": "90bfde6f-e980-4271-f26e-eca79eef6847"
      },
      "execution_count": 73,
      "outputs": [
        {
          "output_type": "execute_result",
          "data": {
            "text/plain": [
              "'pass'"
            ],
            "application/vnd.google.colaboratory.intrinsic+json": {
              "type": "string"
            }
          },
          "metadata": {},
          "execution_count": 73
        }
      ]
    },
    {
      "cell_type": "code",
      "source": [
        "student1.marks"
      ],
      "metadata": {
        "colab": {
          "base_uri": "https://localhost:8080/"
        },
        "id": "NZA7CUWi3Tzc",
        "outputId": "23f74727-e3f0-486d-9982-2d5932a407f3"
      },
      "execution_count": 68,
      "outputs": [
        {
          "output_type": "execute_result",
          "data": {
            "text/plain": [
              "91"
            ]
          },
          "metadata": {},
          "execution_count": 68
        }
      ]
    },
    {
      "cell_type": "code",
      "source": [
        "student1.grade()"
      ],
      "metadata": {
        "colab": {
          "base_uri": "https://localhost:8080/",
          "height": 36
        },
        "id": "lGt1I5BPu2M5",
        "outputId": "be2e9f54-0c38-4d74-a9d9-c77f97278d27"
      },
      "execution_count": 69,
      "outputs": [
        {
          "output_type": "execute_result",
          "data": {
            "text/plain": [
              "'1st class'"
            ],
            "application/vnd.google.colaboratory.intrinsic+json": {
              "type": "string"
            }
          },
          "metadata": {},
          "execution_count": 69
        }
      ]
    },
    {
      "cell_type": "code",
      "source": [
        "student1.attendance_grade()"
      ],
      "metadata": {
        "colab": {
          "base_uri": "https://localhost:8080/",
          "height": 36
        },
        "id": "RAjW4w_bu2Kd",
        "outputId": "94649a83-f190-456a-feea-89d5ff1943e9"
      },
      "execution_count": 74,
      "outputs": [
        {
          "output_type": "execute_result",
          "data": {
            "text/plain": [
              "'pass'"
            ],
            "application/vnd.google.colaboratory.intrinsic+json": {
              "type": "string"
            }
          },
          "metadata": {},
          "execution_count": 74
        }
      ]
    },
    {
      "cell_type": "code",
      "source": [
        "pi r**2\n",
        "2*pi*r"
      ],
      "metadata": {
        "id": "KqcffXAeu2H-"
      },
      "execution_count": null,
      "outputs": []
    },
    {
      "cell_type": "code",
      "source": [
        "import math\n",
        "math.pi"
      ],
      "metadata": {
        "colab": {
          "base_uri": "https://localhost:8080/"
        },
        "id": "c6M2aPjEu2Ff",
        "outputId": "2602bf3a-d238-472d-e61d-9dea970dab04"
      },
      "execution_count": 75,
      "outputs": [
        {
          "output_type": "execute_result",
          "data": {
            "text/plain": [
              "3.141592653589793"
            ]
          },
          "metadata": {},
          "execution_count": 75
        }
      ]
    },
    {
      "cell_type": "code",
      "source": [
        "class CircleProperties:\n",
        "  def __init__(self,r):\n",
        "    self.r=r\n",
        "  def area(self):\n",
        "    return math.pi*self.r*self.r\n",
        "  def circ(self):\n",
        "    return math.pi*2*self.r"
      ],
      "metadata": {
        "id": "c1aOdehwu2DB"
      },
      "execution_count": 83,
      "outputs": []
    },
    {
      "cell_type": "code",
      "source": [
        "object1=CircleProperties(201)\n",
        "object1.area()"
      ],
      "metadata": {
        "colab": {
          "base_uri": "https://localhost:8080/"
        },
        "id": "XAu_qsJJu2Ap",
        "outputId": "fb9d4188-58f4-453e-e53a-bc97319a3843"
      },
      "execution_count": 88,
      "outputs": [
        {
          "output_type": "execute_result",
          "data": {
            "text/plain": [
              "126923.48479768123"
            ]
          },
          "metadata": {},
          "execution_count": 88
        }
      ]
    },
    {
      "cell_type": "code",
      "source": [
        "object1=CircleProperties(201)\n",
        "object1.circ()"
      ],
      "metadata": {
        "colab": {
          "base_uri": "https://localhost:8080/"
        },
        "id": "YNYDfsALu1-g",
        "outputId": "99945153-77e4-475f-a817-acfb6e81bf53"
      },
      "execution_count": 89,
      "outputs": [
        {
          "output_type": "execute_result",
          "data": {
            "text/plain": [
              "1262.9202467430969"
            ]
          },
          "metadata": {},
          "execution_count": 89
        }
      ]
    },
    {
      "cell_type": "code",
      "source": [
        "object1=CircleProperties(201)\n",
        "object1.r"
      ],
      "metadata": {
        "colab": {
          "base_uri": "https://localhost:8080/"
        },
        "id": "TFHNaIIru18S",
        "outputId": "73a46868-80ac-46b1-bda6-4a6c0e208046"
      },
      "execution_count": 90,
      "outputs": [
        {
          "output_type": "execute_result",
          "data": {
            "text/plain": [
              "201"
            ]
          },
          "metadata": {},
          "execution_count": 90
        }
      ]
    },
    {
      "cell_type": "code",
      "source": [
        "class Marks:\n",
        "  def __init__(self,marks,attendance):\n",
        "    self.marks=marks\n",
        "    self.attendance=attendance\n",
        "  def attendance_grade(self):\n",
        "    if self.attendance<100:\n",
        "      return \"fail\"\n",
        "    elif self.attendance<200:\n",
        "      return \"pass\"\n",
        "student1=Marks(98,199)\n",
        "student1.attendance_grade()\n"
      ],
      "metadata": {
        "colab": {
          "base_uri": "https://localhost:8080/",
          "height": 36
        },
        "id": "cwGT4BD7u15h",
        "outputId": "4bf5efad-7610-459e-90c8-74c35d76cbbd"
      },
      "execution_count": 124,
      "outputs": [
        {
          "output_type": "execute_result",
          "data": {
            "text/plain": [
              "'pass'"
            ],
            "application/vnd.google.colaboratory.intrinsic+json": {
              "type": "string"
            }
          },
          "metadata": {},
          "execution_count": 124
        }
      ]
    },
    {
      "cell_type": "code",
      "source": [
        "student1.marks"
      ],
      "metadata": {
        "colab": {
          "base_uri": "https://localhost:8080/"
        },
        "id": "qt1xPwUmu10o",
        "outputId": "cb1b100d-af85-4aa9-b853-dd387b291b10"
      },
      "execution_count": 120,
      "outputs": [
        {
          "output_type": "execute_result",
          "data": {
            "text/plain": [
              "98"
            ]
          },
          "metadata": {},
          "execution_count": 120
        }
      ]
    },
    {
      "cell_type": "code",
      "source": [
        "student1.attendance_grade()"
      ],
      "metadata": {
        "colab": {
          "base_uri": "https://localhost:8080/",
          "height": 36
        },
        "id": "lXpd6ZJxu1yK",
        "outputId": "1c7a8e1f-d6f5-4a0d-cdd8-1507fee2a3f4"
      },
      "execution_count": 125,
      "outputs": [
        {
          "output_type": "execute_result",
          "data": {
            "text/plain": [
              "'pass'"
            ],
            "application/vnd.google.colaboratory.intrinsic+json": {
              "type": "string"
            }
          },
          "metadata": {},
          "execution_count": 125
        }
      ]
    },
    {
      "cell_type": "code",
      "source": [
        "class Rectangle:\n",
        "  def __init__(self, length, width):\n",
        "    self.length = length\n",
        "    self.width = width\n",
        "  def area(self):\n",
        "    return self.length * self.width\n",
        "  def perimeter(self):\n",
        "    return 2 * (self.length + self.width)\n",
        "  def display(self):\n",
        "    print(f\"{self.width}x {self.length}\")"
      ],
      "metadata": {
        "id": "51YmVFNWu1tL"
      },
      "execution_count": 126,
      "outputs": []
    },
    {
      "cell_type": "code",
      "source": [
        "object1=Rectangle(10,20)\n",
        "object1.area()"
      ],
      "metadata": {
        "colab": {
          "base_uri": "https://localhost:8080/"
        },
        "id": "DFwz_w5Iu1qP",
        "outputId": "aaa892b9-52dc-41c5-97ff-3e4979ff038a"
      },
      "execution_count": 127,
      "outputs": [
        {
          "output_type": "execute_result",
          "data": {
            "text/plain": [
              "200"
            ]
          },
          "metadata": {},
          "execution_count": 127
        }
      ]
    },
    {
      "cell_type": "code",
      "source": [
        "object1.perimeter()"
      ],
      "metadata": {
        "colab": {
          "base_uri": "https://localhost:8080/"
        },
        "id": "NB3AtAs6u1nj",
        "outputId": "531d66d6-6aaf-4f7b-a904-3cd3d0c38ab3"
      },
      "execution_count": 128,
      "outputs": [
        {
          "output_type": "execute_result",
          "data": {
            "text/plain": [
              "60"
            ]
          },
          "metadata": {},
          "execution_count": 128
        }
      ]
    },
    {
      "cell_type": "code",
      "source": [
        "object1.display()"
      ],
      "metadata": {
        "colab": {
          "base_uri": "https://localhost:8080/"
        },
        "id": "B56RG2B-u1lF",
        "outputId": "2a126e6c-711d-45ea-db29-fe14ecc7bbf5"
      },
      "execution_count": 129,
      "outputs": [
        {
          "output_type": "stream",
          "name": "stdout",
          "text": [
            "20x 10\n"
          ]
        }
      ]
    },
    {
      "cell_type": "code",
      "source": [
        "import math\n",
        "math.pi"
      ],
      "metadata": {
        "colab": {
          "base_uri": "https://localhost:8080/"
        },
        "id": "vqYiEcGXHLBD",
        "outputId": "991da283-eff6-48d6-d0be-fa7f839e1259"
      },
      "execution_count": 148,
      "outputs": [
        {
          "output_type": "execute_result",
          "data": {
            "text/plain": [
              "3.141592653589793"
            ]
          },
          "metadata": {},
          "execution_count": 148
        }
      ]
    },
    {
      "cell_type": "code",
      "source": [
        "class Circle:\n",
        "  def __init__(self,radius):\n",
        "    self.radius = radius\n",
        "  def area(self):\n",
        "    return math.pi*self.radius*self.radius\n",
        "  def circumference(self):\n",
        "    return 2 *math.pi*self.radius\n",
        "  def display(self):\n",
        "    print(\"radius:\",self.radius)"
      ],
      "metadata": {
        "id": "RkNS0lOou1iY"
      },
      "execution_count": 171,
      "outputs": []
    },
    {
      "cell_type": "code",
      "source": [
        "object1=Circle(20)\n",
        "object1.radius"
      ],
      "metadata": {
        "colab": {
          "base_uri": "https://localhost:8080/"
        },
        "id": "mkEXyEnqu1gF",
        "outputId": "ed55186f-080c-47ac-f600-afb9fb743005"
      },
      "execution_count": 167,
      "outputs": [
        {
          "output_type": "execute_result",
          "data": {
            "text/plain": [
              "20"
            ]
          },
          "metadata": {},
          "execution_count": 167
        }
      ]
    },
    {
      "cell_type": "code",
      "source": [
        "object1.area()"
      ],
      "metadata": {
        "colab": {
          "base_uri": "https://localhost:8080/"
        },
        "id": "a3AyPwzjE2Yc",
        "outputId": "cd38b402-6cc4-4529-ae9d-7af3b3952220"
      },
      "execution_count": 168,
      "outputs": [
        {
          "output_type": "execute_result",
          "data": {
            "text/plain": [
              "1256.6370614359173"
            ]
          },
          "metadata": {},
          "execution_count": 168
        }
      ]
    },
    {
      "cell_type": "code",
      "source": [
        "object1.circumference()"
      ],
      "metadata": {
        "colab": {
          "base_uri": "https://localhost:8080/"
        },
        "id": "UZ9WJKqGE2Vq",
        "outputId": "f946edb5-e9f7-421c-e36e-55a7c4cd2e19"
      },
      "execution_count": 169,
      "outputs": [
        {
          "output_type": "execute_result",
          "data": {
            "text/plain": [
              "125.66370614359172"
            ]
          },
          "metadata": {},
          "execution_count": 169
        }
      ]
    },
    {
      "cell_type": "code",
      "source": [
        "object1.display()"
      ],
      "metadata": {
        "colab": {
          "base_uri": "https://localhost:8080/"
        },
        "id": "Rw_Eh9kFE2Tc",
        "outputId": "fa766392-fd36-4077-9c5e-9b17c45cc160"
      },
      "execution_count": 172,
      "outputs": [
        {
          "output_type": "stream",
          "name": "stdout",
          "text": [
            "radius: 20\n"
          ]
        }
      ]
    },
    {
      "cell_type": "code",
      "source": [
        "class Car:\n",
        "  def __init__(self, brand, speed): # Corrected spelling\n",
        "    self.brand = brand\n",
        "    self.speed = speed\n",
        "  def accelerate(self):\n",
        "    self.speed += 100\n",
        "  def display(self):\n",
        "    print(f\"{self.brand} speed: {self.speed}km/h\")"
      ],
      "metadata": {
        "id": "zpF7jmsBE2RQ"
      },
      "execution_count": 1,
      "outputs": []
    },
    {
      "cell_type": "code",
      "source": [
        "object1=Car(\"alice\",230)\n",
        "object1.accelerate()\n",
        "object1.display()"
      ],
      "metadata": {
        "colab": {
          "base_uri": "https://localhost:8080/"
        },
        "id": "ue52G1ifE2Om",
        "outputId": "0abdaaf9-1c09-44df-d76f-3b5e54f3c75d"
      },
      "execution_count": 2,
      "outputs": [
        {
          "output_type": "stream",
          "name": "stdout",
          "text": [
            "alice speed: 330km/h\n"
          ]
        }
      ]
    },
    {
      "cell_type": "code",
      "source": [
        "class BankAccount:\n",
        "  def __init__(self, holder, balance):\n",
        "    self.holder = holder\n",
        "    self .balance = balance\n",
        "\n",
        "  def deposit(self,ammount):\n",
        "    self.balance += 20000\n",
        "  def display(self):\n",
        "    print(f\"{self.holder} Balance: {self.balance}\")"
      ],
      "metadata": {
        "id": "ntHBr8kmE2MJ"
      },
      "execution_count": 3,
      "outputs": []
    },
    {
      "cell_type": "code",
      "source": [
        "object1=BankAccount(\"Poojitha\",20000)\n",
        "object1.deposit(20000)\n",
        "object1.display()"
      ],
      "metadata": {
        "colab": {
          "base_uri": "https://localhost:8080/"
        },
        "id": "No3QPMpQE2G3",
        "outputId": "eda3c644-cd78-482f-c44a-6088206634aa"
      },
      "execution_count": 6,
      "outputs": [
        {
          "output_type": "stream",
          "name": "stdout",
          "text": [
            "Poojitha Balance: 40000\n"
          ]
        }
      ]
    },
    {
      "cell_type": "code",
      "source": [
        "class Book:\n",
        "  def __init__(self, title, author):\n",
        "    self.title = title\n",
        "    self.author = author\n",
        "  def display(self):\n",
        "    print(f\"{self.title} by {self.author}\")\n",
        "  def get_author(self):\n",
        "    return self.author"
      ],
      "metadata": {
        "id": "tUT9bYu8E2EX"
      },
      "execution_count": 7,
      "outputs": []
    },
    {
      "cell_type": "code",
      "source": [
        "author1=Book(\"attack on titan\",\"poojitha\")\n",
        "author1.get_author()\n",
        "author1.display()"
      ],
      "metadata": {
        "colab": {
          "base_uri": "https://localhost:8080/"
        },
        "id": "veaA_EhUE2CG",
        "outputId": "8768d3a5-4287-4cae-dfdd-879af06db6e6"
      },
      "execution_count": 9,
      "outputs": [
        {
          "output_type": "stream",
          "name": "stdout",
          "text": [
            "attack on titan by poojitha\n"
          ]
        }
      ]
    },
    {
      "cell_type": "code",
      "source": [],
      "metadata": {
        "id": "_IGGn9-GE1_o"
      },
      "execution_count": null,
      "outputs": []
    },
    {
      "cell_type": "code",
      "source": [
        "class Temperature:\n",
        "  def __init__(self, celsius):\n",
        "    self.celsius = celsius\n",
        "  def to_fahernheit(self):\n",
        "    return (self.celsius * 9/5) +60\n",
        "  def display(self):\n",
        "    print(f\"{self.celsius}°C\")"
      ],
      "metadata": {
        "id": "ubhaLzm9kCi0"
      },
      "execution_count": 15,
      "outputs": []
    },
    {
      "cell_type": "code",
      "source": [
        "climate=Temperature(20)\n",
        "climate.to_fahernheit()\n",
        "climate.display()"
      ],
      "metadata": {
        "colab": {
          "base_uri": "https://localhost:8080/"
        },
        "id": "XnbHmaXenTk4",
        "outputId": "426d33e6-8073-46f7-e1f5-e44418f33b26"
      },
      "execution_count": 17,
      "outputs": [
        {
          "output_type": "stream",
          "name": "stdout",
          "text": [
            "20°C\n"
          ]
        }
      ]
    },
    {
      "cell_type": "code",
      "source": [
        "climate.to_fahernheit()"
      ],
      "metadata": {
        "colab": {
          "base_uri": "https://localhost:8080/"
        },
        "id": "-ghsm5H5kCfJ",
        "outputId": "94dc7e95-4106-4fe5-8909-745a1d7ed548"
      },
      "execution_count": 18,
      "outputs": [
        {
          "output_type": "execute_result",
          "data": {
            "text/plain": [
              "96.0"
            ]
          },
          "metadata": {},
          "execution_count": 18
        }
      ]
    },
    {
      "cell_type": "code",
      "source": [
        "climate.display()"
      ],
      "metadata": {
        "colab": {
          "base_uri": "https://localhost:8080/"
        },
        "id": "zww96MVykCc5",
        "outputId": "1b781d41-5451-4ee4-cd7b-1f6fc62bb602"
      },
      "execution_count": 19,
      "outputs": [
        {
          "output_type": "stream",
          "name": "stdout",
          "text": [
            "20°C\n"
          ]
        }
      ]
    },
    {
      "cell_type": "code",
      "source": [],
      "metadata": {
        "id": "SsLP75aKkCaQ"
      },
      "execution_count": null,
      "outputs": []
    },
    {
      "cell_type": "markdown",
      "source": [
        "# 🧱 Properties of Object-Oriented Programming (OOP)\n",
        "\n",
        "Object-Oriented Programming is based on four main principles:\n",
        "\n",
        "---\n",
        "\n",
        "## 🔹 1. Encapsulation\n",
        "- Encapsulation is the process of **bundling data and methods** that operate on that data into a single unit (class).\n",
        "- It helps **hide internal details** and restricts direct access to some components.\n",
        "- Promotes **data security**, **integrity**, and **modularity**.\n",
        "- Example concepts: private variables, getter/setter methods.\n",
        "\n",
        "---\n",
        "\n",
        "## 🔹 2. Abstraction\n",
        "- Abstraction means **hiding complex implementation details** and showing only the **essential features** to the user.\n",
        "- Allows the user to interact with the system without knowing internal logic.\n",
        "- Promotes **simplification** and **focus on behavior** rather than internal structure.\n",
        "\n",
        "---\n",
        "\n",
        "## 🔹 3. Inheritance\n",
        "- Inheritance is a mechanism where one class (child/subclass) **inherits the properties and behaviors** of another class (parent/superclass).\n",
        "- Promotes **code reusability** and **extensibility**.\n",
        "- Allows the creation of a hierarchical classification.\n",
        "\n",
        "---\n",
        "\n",
        "## 🔹 4. Polymorphism\n",
        "- Polymorphism means \"**many forms**\" — the ability of a method or object to behave differently based on context.\n",
        "- Allows the **same interface** to be used for different data types or classes.\n",
        "- Promotes **flexibility** and **interchangeability** in code.\n",
        "\n",
        "---\n"
      ],
      "metadata": {
        "id": "d3yJ4LG2mF7V"
      }
    },
    {
      "cell_type": "code",
      "source": [],
      "metadata": {
        "id": "B8OZ3KPHkCX4"
      },
      "execution_count": null,
      "outputs": []
    },
    {
      "cell_type": "code",
      "source": [
        "### Example1 :Data Cleaning\n",
        "class DataCleaner:\n",
        "  def remove_nulls(self):\n",
        "    print(\"Null values removed\")\n",
        "class SalesCleaner(DataCleaner):\n",
        "  def convert_dates(self):\n",
        "    print(\"Data columns converted\")\n"
      ],
      "metadata": {
        "id": "_TNen7A5kCVg"
      },
      "execution_count": 48,
      "outputs": []
    },
    {
      "cell_type": "code",
      "source": [
        "object1=SalesCleaner()\n",
        "object1.remove_nulls()\n",
        "object1.convert_dates()"
      ],
      "metadata": {
        "colab": {
          "base_uri": "https://localhost:8080/"
        },
        "id": "5vyV2BBikCRF",
        "outputId": "7938b619-7b9b-48b6-c80d-f43de934da10"
      },
      "execution_count": 49,
      "outputs": [
        {
          "output_type": "stream",
          "name": "stdout",
          "text": [
            "Null values removed\n",
            "Data columns converted\n"
          ]
        }
      ]
    },
    {
      "cell_type": "code",
      "source": [
        "class Preprocessor:\n",
        "  def __init__(self):\n",
        "    print(\"Preprocessor intialized\")\n",
        "  def clean(self):\n",
        "    print(\"cleaning base data\")\n",
        "class TextPreprocessor(Preprocessor):\n",
        "  def __init__(self):\n",
        "    print(\"TextPreprocessor intialized\")\n",
        "  def tokenize(self):\n",
        "    print(\"Text tokenized\")\n",
        "\n"
      ],
      "metadata": {
        "id": "arkkh1JikCOv"
      },
      "execution_count": 52,
      "outputs": []
    },
    {
      "cell_type": "code",
      "source": [],
      "metadata": {
        "id": "Yii4XHRMwlEm"
      },
      "execution_count": null,
      "outputs": []
    },
    {
      "cell_type": "code",
      "source": [
        "data1=TextPreprocessor()\n",
        "data1.tokenize()"
      ],
      "metadata": {
        "colab": {
          "base_uri": "https://localhost:8080/"
        },
        "id": "FSIslFhMkCMO",
        "outputId": "0d80bda9-713e-4df8-f589-c940e501eb93"
      },
      "execution_count": 53,
      "outputs": [
        {
          "output_type": "stream",
          "name": "stdout",
          "text": [
            "TextPreprocessor intialized\n",
            "Text tokenized\n"
          ]
        }
      ]
    },
    {
      "cell_type": "code",
      "source": [
        "data1.clean()"
      ],
      "metadata": {
        "colab": {
          "base_uri": "https://localhost:8080/"
        },
        "id": "8KyIX-a-kCJn",
        "outputId": "f4822f67-fcc0-4953-ca6f-62a3c1be518c"
      },
      "execution_count": 25,
      "outputs": [
        {
          "output_type": "stream",
          "name": "stdout",
          "text": [
            "cleaning base data\n"
          ]
        }
      ]
    },
    {
      "cell_type": "code",
      "source": [
        "data1.tokenize()"
      ],
      "metadata": {
        "colab": {
          "base_uri": "https://localhost:8080/"
        },
        "id": "fjhJKbwckCG2",
        "outputId": "ae77e2d5-3673-4303-a241-a97f7cf407d3"
      },
      "execution_count": 26,
      "outputs": [
        {
          "output_type": "stream",
          "name": "stdout",
          "text": [
            "Text tokenized\n"
          ]
        }
      ]
    },
    {
      "cell_type": "code",
      "source": [
        "class Model:\n",
        "  def __inti__(self):\n",
        "    print(\"Base Model intialized\")\n",
        "  def train(self):\n",
        "    print(\"Traning model..\")\n",
        "class LinearRegressionModel(Model):\n",
        "  def __init__(self):\n",
        "    print(\"LinearRegressionModel ready\")\n",
        "  def predict(self):\n",
        "    print(\"Predicting using linear regression\")"
      ],
      "metadata": {
        "id": "m6uHUE1XkCDx"
      },
      "execution_count": 30,
      "outputs": []
    },
    {
      "cell_type": "code",
      "source": [
        "intial1=LinearRegressionModel()"
      ],
      "metadata": {
        "colab": {
          "base_uri": "https://localhost:8080/"
        },
        "id": "UiSN5M5QkCBv",
        "outputId": "055d5904-457a-4a96-ae3d-0be61dcc855f"
      },
      "execution_count": 32,
      "outputs": [
        {
          "output_type": "stream",
          "name": "stdout",
          "text": [
            "LinearRegressionModel ready\n"
          ]
        }
      ]
    },
    {
      "cell_type": "code",
      "source": [
        "intial1.train()"
      ],
      "metadata": {
        "colab": {
          "base_uri": "https://localhost:8080/"
        },
        "id": "TDaMwb7hkB-z",
        "outputId": "77c34cff-653c-4984-e57c-db22499e3645"
      },
      "execution_count": 33,
      "outputs": [
        {
          "output_type": "stream",
          "name": "stdout",
          "text": [
            "Traning model..\n"
          ]
        }
      ]
    },
    {
      "cell_type": "code",
      "source": [
        "intial1.predict()"
      ],
      "metadata": {
        "colab": {
          "base_uri": "https://localhost:8080/"
        },
        "id": "zo7WlMhbrNV_",
        "outputId": "19a6cfb6-e3e7-447e-fcb6-f06490beb823"
      },
      "execution_count": 34,
      "outputs": [
        {
          "output_type": "stream",
          "name": "stdout",
          "text": [
            "Predicting using linear regression\n"
          ]
        }
      ]
    },
    {
      "cell_type": "code",
      "source": [
        "class Dataset:\n",
        "  def __init__(self):\n",
        "    print(\"Dataset intialized\")\n",
        "  def load(self):\n",
        "    print(\"Loading dataset...\")\n",
        "class CSVData(Dataset):\n",
        "  def __init__(self):\n",
        "    super().__init__()\n",
        "    print(\"CSVData intialized\")\n",
        "  def read_csv(self):\n",
        "    print(\"Reading CSV file\")\n",
        "class CleanedCSVData(CSVData):\n",
        "  def __init__(self):\n",
        "    super().__init__()\n",
        "    print(\"CleanedCSVData intialized\")\n",
        "  def clean(self):\n",
        "    print(\"Cleaning missing values\")"
      ],
      "metadata": {
        "id": "_U4ONNjUrNTm"
      },
      "execution_count": 46,
      "outputs": []
    },
    {
      "cell_type": "code",
      "source": [
        "read1=CleanedCSVData()\n",
        "read1.clean()"
      ],
      "metadata": {
        "colab": {
          "base_uri": "https://localhost:8080/"
        },
        "id": "DY1TyTKfrNRT",
        "outputId": "ec8b49e4-64c8-46b3-8b6d-9b6e2ff5ba71"
      },
      "execution_count": 47,
      "outputs": [
        {
          "output_type": "stream",
          "name": "stdout",
          "text": [
            "Dataset intialized\n",
            "CSVData intialized\n",
            "CleanedCSVData intialized\n",
            "Cleaning missing values\n"
          ]
        }
      ]
    },
    {
      "cell_type": "code",
      "source": [
        "read1.read_csv()"
      ],
      "metadata": {
        "colab": {
          "base_uri": "https://localhost:8080/"
        },
        "id": "qY4-_Hh8rNNH",
        "outputId": "b74ac305-4d74-4a1c-8b43-822a5889613b"
      },
      "execution_count": 39,
      "outputs": [
        {
          "output_type": "stream",
          "name": "stdout",
          "text": [
            "Reading CSV file\n"
          ]
        }
      ]
    },
    {
      "cell_type": "code",
      "source": [
        "read1.clean()"
      ],
      "metadata": {
        "colab": {
          "base_uri": "https://localhost:8080/"
        },
        "id": "KRQo77DkrNIT",
        "outputId": "b210b487-783a-45d0-f9ce-4d0ab4d31710"
      },
      "execution_count": 42,
      "outputs": [
        {
          "output_type": "stream",
          "name": "stdout",
          "text": [
            "Cleaninhg missing values\n"
          ]
        }
      ]
    },
    {
      "cell_type": "code",
      "source": [],
      "metadata": {
        "id": "z1XK4ZxjrNGB"
      },
      "execution_count": null,
      "outputs": []
    },
    {
      "cell_type": "code",
      "source": [],
      "metadata": {
        "id": "gniK7yj5rNCt"
      },
      "execution_count": null,
      "outputs": []
    }
  ]
}