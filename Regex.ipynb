{
  "nbformat": 4,
  "nbformat_minor": 0,
  "metadata": {
    "colab": {
      "provenance": []
    },
    "kernelspec": {
      "name": "python3",
      "display_name": "Python 3"
    },
    "language_info": {
      "name": "python"
    }
  },
  "cells": [
    {
      "cell_type": "code",
      "execution_count": null,
      "metadata": {
        "id": "_9c6b4LkGPJD"
      },
      "outputs": [],
      "source": [
        "### findall : returns list of al the matches\n",
        "### search : returns a match object if there match\n",
        "### split : it divides the string into words\n",
        "### sub : replace"
      ]
    },
    {
      "cell_type": "code",
      "source": [
        "### meta characters\n",
        "### special sequence\n",
        "### sets"
      ],
      "metadata": {
        "id": "xbmiOkymHDfd"
      },
      "execution_count": null,
      "outputs": []
    },
    {
      "cell_type": "code",
      "source": [
        "### meta characters"
      ],
      "metadata": {
        "id": "H-Wb38WtHDcD"
      },
      "execution_count": null,
      "outputs": []
    },
    {
      "cell_type": "code",
      "source": [
        "import re"
      ],
      "metadata": {
        "id": "NVEXcfsjHDaE"
      },
      "execution_count": null,
      "outputs": []
    },
    {
      "cell_type": "code",
      "source": [
        "re.findall(r\"[abc]\",\"data science\")"
      ],
      "metadata": {
        "colab": {
          "base_uri": "https://localhost:8080/"
        },
        "id": "QSqQ8QSwHDUE",
        "outputId": "afd61d61-f4c1-45b5-e862-0ff0680172ba"
      },
      "execution_count": null,
      "outputs": [
        {
          "output_type": "execute_result",
          "data": {
            "text/plain": [
              "['a', 'a', 'c', 'c']"
            ]
          },
          "metadata": {},
          "execution_count": 9
        }
      ]
    },
    {
      "cell_type": "code",
      "source": [
        "[] ### charcters"
      ],
      "metadata": {
        "id": "i7iXUcs7HDPR"
      },
      "execution_count": null,
      "outputs": []
    },
    {
      "cell_type": "code",
      "source": [
        "print(re.findall(r\"[0-9]\",\"Hello123\"))"
      ],
      "metadata": {
        "colab": {
          "base_uri": "https://localhost:8080/"
        },
        "id": "r2409qi9HDK1",
        "outputId": "86c2d1a8-3432-4054-8bb6-d6931f2d3d54"
      },
      "execution_count": null,
      "outputs": [
        {
          "output_type": "stream",
          "name": "stdout",
          "text": [
            "['1', '2', '3']\n"
          ]
        }
      ]
    },
    {
      "cell_type": "code",
      "source": [
        "\"\".join(re.findall(r\"\\d\", \"Room 45 91-98765\"))"
      ],
      "metadata": {
        "colab": {
          "base_uri": "https://localhost:8080/",
          "height": 36
        },
        "id": "kJjqjv69HDIH",
        "outputId": "204cc1ed-1344-40bc-f59c-ce8d657023ed"
      },
      "execution_count": null,
      "outputs": [
        {
          "output_type": "execute_result",
          "data": {
            "text/plain": [
              "'459198765'"
            ],
            "application/vnd.google.colaboratory.intrinsic+json": {
              "type": "string"
            }
          },
          "metadata": {},
          "execution_count": 11
        }
      ]
    },
    {
      "cell_type": "code",
      "source": [
        "re.findall(r\"\\d\", \"Room 42 91-2342425\")"
      ],
      "metadata": {
        "colab": {
          "base_uri": "https://localhost:8080/"
        },
        "id": "S2kQPdYOHDF7",
        "outputId": "3e05de35-029b-4a8a-b2ed-e224a5f777d7"
      },
      "execution_count": null,
      "outputs": [
        {
          "output_type": "execute_result",
          "data": {
            "text/plain": [
              "['4', '2', '9', '1', '2', '3', '4', '2', '4', '2', '5']"
            ]
          },
          "metadata": {},
          "execution_count": 12
        }
      ]
    },
    {
      "cell_type": "code",
      "source": [
        "re.findall(r\"\\D\", \"Room 42 91-2342425\")"
      ],
      "metadata": {
        "colab": {
          "base_uri": "https://localhost:8080/"
        },
        "id": "URvHEC3SHDDI",
        "outputId": "9522dc9f-f3f0-4d7d-f2b0-cc970746ae01"
      },
      "execution_count": null,
      "outputs": [
        {
          "output_type": "execute_result",
          "data": {
            "text/plain": [
              "['R', 'o', 'o', 'm', ' ', ' ', '-']"
            ]
          },
          "metadata": {},
          "execution_count": 13
        }
      ]
    },
    {
      "cell_type": "code",
      "source": [
        "### \\d : digit, numbers\n",
        "### \\D : Non digits"
      ],
      "metadata": {
        "id": "OcGfVhiVHDAT"
      },
      "execution_count": null,
      "outputs": []
    },
    {
      "cell_type": "code",
      "source": [
        "re.findall(r\"\\w\", \"Room 42 _@$@$@425\")"
      ],
      "metadata": {
        "colab": {
          "base_uri": "https://localhost:8080/"
        },
        "id": "srYUZTSmHC9g",
        "outputId": "750ed5aa-0656-47e7-e49d-b417dd2e07e1"
      },
      "execution_count": null,
      "outputs": [
        {
          "output_type": "execute_result",
          "data": {
            "text/plain": [
              "['R', 'o', 'o', 'm', '4', '2', '_', '4', '2', '5']"
            ]
          },
          "metadata": {},
          "execution_count": 14
        }
      ]
    },
    {
      "cell_type": "code",
      "source": [
        "#\\w matches letters digits and underscore"
      ],
      "metadata": {
        "id": "Y79z3E6YHC6p"
      },
      "execution_count": null,
      "outputs": []
    },
    {
      "cell_type": "code",
      "source": [
        "re.findall(r\"h.t\", \"hat, hit, hothxt\")"
      ],
      "metadata": {
        "colab": {
          "base_uri": "https://localhost:8080/"
        },
        "id": "GrQVH7gBHC33",
        "outputId": "51c0f48c-3bac-4dff-c748-8659f5e428b6"
      },
      "execution_count": null,
      "outputs": [
        {
          "output_type": "execute_result",
          "data": {
            "text/plain": [
              "['hat', 'hit', 'hot', 'hxt']"
            ]
          },
          "metadata": {},
          "execution_count": 15
        }
      ]
    },
    {
      "cell_type": "code",
      "source": [
        "re.findall(r\"a.b\", \"acb a#b a@b\")"
      ],
      "metadata": {
        "colab": {
          "base_uri": "https://localhost:8080/"
        },
        "id": "6pv7np6fHC07",
        "outputId": "630a1171-27f1-4cbd-e926-9982701233fe"
      },
      "execution_count": null,
      "outputs": [
        {
          "output_type": "execute_result",
          "data": {
            "text/plain": [
              "['acb', 'a#b', 'a@b']"
            ]
          },
          "metadata": {},
          "execution_count": 16
        }
      ]
    },
    {
      "cell_type": "code",
      "source": [
        "re.findall(r\".\", \"abc1231$#@$%$\")"
      ],
      "metadata": {
        "colab": {
          "base_uri": "https://localhost:8080/"
        },
        "id": "kV5sbx2xHCvR",
        "outputId": "54bb05fe-df73-4ab8-ce7c-3775fde7f21b"
      },
      "execution_count": null,
      "outputs": [
        {
          "output_type": "execute_result",
          "data": {
            "text/plain": [
              "['a', 'b', 'c', '1', '2', '3', '1', '$', '#', '@', '$', '%', '$']"
            ]
          },
          "metadata": {},
          "execution_count": 17
        }
      ]
    },
    {
      "cell_type": "code",
      "source": [
        "re.findall(r\"^Hello\", \"Hello \\nHello World \",re.M)"
      ],
      "metadata": {
        "colab": {
          "base_uri": "https://localhost:8080/"
        },
        "id": "Fe1MEG9mHCk3",
        "outputId": "268479ec-81da-47e4-b257-e59a1a185166"
      },
      "execution_count": null,
      "outputs": [
        {
          "output_type": "execute_result",
          "data": {
            "text/plain": [
              "['Hello', 'Hello']"
            ]
          },
          "metadata": {},
          "execution_count": 18
        }
      ]
    },
    {
      "cell_type": "code",
      "source": [
        "re.findall(r\"end$\", \"The end\")"
      ],
      "metadata": {
        "colab": {
          "base_uri": "https://localhost:8080/"
        },
        "id": "VRNZ-ZrGHCiW",
        "outputId": "51fcd11b-580a-4c92-c7ff-8a5992591736"
      },
      "execution_count": null,
      "outputs": [
        {
          "output_type": "execute_result",
          "data": {
            "text/plain": [
              "['end']"
            ]
          },
          "metadata": {},
          "execution_count": 19
        }
      ]
    },
    {
      "cell_type": "code",
      "source": [
        "re.findall(r\"\\d$\", \"ID 123\")"
      ],
      "metadata": {
        "colab": {
          "base_uri": "https://localhost:8080/"
        },
        "id": "5rmZKIMDHCgP",
        "outputId": "3d07db00-459f-47cd-c94a-9ea145eafcc1"
      },
      "execution_count": null,
      "outputs": [
        {
          "output_type": "execute_result",
          "data": {
            "text/plain": [
              "['3']"
            ]
          },
          "metadata": {},
          "execution_count": 20
        }
      ]
    },
    {
      "cell_type": "code",
      "source": [
        "re.findall(r\"\\d$\", \"ID 123\")"
      ],
      "metadata": {
        "colab": {
          "base_uri": "https://localhost:8080/"
        },
        "id": "0Im98mcEHCeF",
        "outputId": "c31480dd-87bf-4dca-dfcc-80ef9609c4f4"
      },
      "execution_count": null,
      "outputs": [
        {
          "output_type": "execute_result",
          "data": {
            "text/plain": [
              "['3']"
            ]
          },
          "metadata": {},
          "execution_count": 21
        }
      ]
    },
    {
      "cell_type": "code",
      "source": [
        "re.findall(r\"d*\",\"datadatdatadatd\")"
      ],
      "metadata": {
        "colab": {
          "base_uri": "https://localhost:8080/"
        },
        "id": "qMjhZk7OHCb6",
        "outputId": "92fb7d46-6baa-4614-a038-19e6594175c3"
      },
      "execution_count": null,
      "outputs": [
        {
          "output_type": "execute_result",
          "data": {
            "text/plain": [
              "['d', '', '', '', 'd', '', '', 'd', '', '', '', 'd', '', '', 'd', '']"
            ]
          },
          "metadata": {},
          "execution_count": 22
        }
      ]
    },
    {
      "cell_type": "code",
      "source": [
        "re.findall(r\"lo?\", \"look low lion\")\n",
        "### l is mandatory o is optional"
      ],
      "metadata": {
        "colab": {
          "base_uri": "https://localhost:8080/"
        },
        "id": "DnT5mwlkHCZw",
        "outputId": "c7f83e32-22b2-4464-a8bc-7b2ddb7892f3"
      },
      "execution_count": null,
      "outputs": [
        {
          "output_type": "execute_result",
          "data": {
            "text/plain": [
              "['lo', 'lo', 'l']"
            ]
          },
          "metadata": {},
          "execution_count": 23
        }
      ]
    },
    {
      "cell_type": "code",
      "source": [
        "  re.findall(r\"a{2}\", \"a aa aaa \")"
      ],
      "metadata": {
        "colab": {
          "base_uri": "https://localhost:8080/"
        },
        "id": "wgUEScPwHCXM",
        "outputId": "b2b2c5dc-2aba-45e9-bfb7-dbd835a7ad4e"
      },
      "execution_count": null,
      "outputs": [
        {
          "output_type": "execute_result",
          "data": {
            "text/plain": [
              "['aa', 'aa']"
            ]
          },
          "metadata": {},
          "execution_count": 24
        }
      ]
    },
    {
      "cell_type": "code",
      "source": [
        "re.findall(r\"\\d{3}\", \"123 4567 89 000\")"
      ],
      "metadata": {
        "colab": {
          "base_uri": "https://localhost:8080/"
        },
        "id": "RuUxLaN-HCU2",
        "outputId": "10ba5f41-45ad-4aad-a376-cc57d65cfe35"
      },
      "execution_count": null,
      "outputs": [
        {
          "output_type": "execute_result",
          "data": {
            "text/plain": [
              "['123', '456', '000']"
            ]
          },
          "metadata": {},
          "execution_count": 25
        }
      ]
    },
    {
      "cell_type": "code",
      "source": [
        "re.findall(r\"cat|dog\", \"I like cat and dog\")"
      ],
      "metadata": {
        "colab": {
          "base_uri": "https://localhost:8080/"
        },
        "id": "C_PmbcmuHCSP",
        "outputId": "175ddd7c-c04a-434d-85d0-9e1e2f89fc00"
      },
      "execution_count": null,
      "outputs": [
        {
          "output_type": "execute_result",
          "data": {
            "text/plain": [
              "['cat', 'dog']"
            ]
          },
          "metadata": {},
          "execution_count": 26
        }
      ]
    },
    {
      "cell_type": "code",
      "source": [
        "re.findall(r\"apple|banana\", \"apple pie and banana shake\")"
      ],
      "metadata": {
        "colab": {
          "base_uri": "https://localhost:8080/"
        },
        "id": "byc7EmP-HCP4",
        "outputId": "3de4604e-7d55-4231-9f58-45b4f35f6c30"
      },
      "execution_count": null,
      "outputs": [
        {
          "output_type": "execute_result",
          "data": {
            "text/plain": [
              "['apple', 'banana']"
            ]
          },
          "metadata": {},
          "execution_count": 27
        }
      ]
    },
    {
      "cell_type": "code",
      "source": [
        "re.findall(r\"yes|no\", \"yes maybe no yes\")"
      ],
      "metadata": {
        "colab": {
          "base_uri": "https://localhost:8080/"
        },
        "id": "IRUms5efHCNJ",
        "outputId": "3817dd2a-8e0b-46df-ea33-72081a027761"
      },
      "execution_count": null,
      "outputs": [
        {
          "output_type": "execute_result",
          "data": {
            "text/plain": [
              "['yes', 'no', 'yes']"
            ]
          },
          "metadata": {},
          "execution_count": 28
        }
      ]
    },
    {
      "cell_type": "code",
      "source": [
        "reviews = [\n",
        "    \"I bought this on 10/07/2025, and it's amazing! 123\",\n",
        "    \"Email me at user123@example.com for more info.\",\n",
        "    \"The phone number is 987-654-3210, call anytime.\",\n",
        "    \"This product is well-made and state-of-the-art!\",\n",
        "    \"Worst. Experience. Ever. 👎 So bad I said bad twice. bad bad.\"\n",
        "]"
      ],
      "metadata": {
        "id": "tuHiErlBHCKb"
      },
      "execution_count": null,
      "outputs": []
    },
    {
      "cell_type": "code",
      "source": [
        "[len(i) for i in reviews]"
      ],
      "metadata": {
        "colab": {
          "base_uri": "https://localhost:8080/"
        },
        "id": "61CsxGrQHCHx",
        "outputId": "19f42f22-b8c1-404f-e21c-4ab52fb174a8"
      },
      "execution_count": null,
      "outputs": [
        {
          "output_type": "execute_result",
          "data": {
            "text/plain": [
              "[50, 46, 47, 47, 60]"
            ]
          },
          "metadata": {},
          "execution_count": 30
        }
      ]
    },
    {
      "cell_type": "code",
      "source": [
        "[len(i.split())for i in reviews]"
      ],
      "metadata": {
        "colab": {
          "base_uri": "https://localhost:8080/"
        },
        "id": "UhUP_h9vHCFT",
        "outputId": "509f2ed7-210e-4a25-eddd-c9c71735630f"
      },
      "execution_count": null,
      "outputs": [
        {
          "output_type": "execute_result",
          "data": {
            "text/plain": [
              "[9, 7, 7, 6, 12]"
            ]
          },
          "metadata": {},
          "execution_count": 31
        }
      ]
    },
    {
      "cell_type": "code",
      "source": [
        "reviews"
      ],
      "metadata": {
        "colab": {
          "base_uri": "https://localhost:8080/"
        },
        "id": "bOhkT7VwHCAp",
        "outputId": "ee0282f4-f21e-4092-fa5d-bc9959d50825"
      },
      "execution_count": null,
      "outputs": [
        {
          "output_type": "execute_result",
          "data": {
            "text/plain": [
              "[\"I bought this on 10/07/2025, and it's amazing! 123\",\n",
              " 'Email me at user123@example.com for more info.',\n",
              " 'The phone number is 987-654-3210, call anytime.',\n",
              " 'This product is well-made and state-of-the-art!',\n",
              " 'Worst. Experience. Ever. 👎 So bad I said bad twice. bad bad.']"
            ]
          },
          "metadata": {},
          "execution_count": 32
        }
      ]
    },
    {
      "cell_type": "code",
      "source": [
        "reviews = [\n",
        "    \"I bought this on 10/07/2025, and it's amazing! 123\",\n",
        "    \"# Email me at user123@example.com for more info.\",\n",
        "    \"The phone number is 987-654-3210, call anytime.\",\n",
        "    \"This product is well-made and state-of-the-art!\",\n",
        "    \"Worst. Experience. Ever. 👎 So bad I said bad twice. bad bad.\"\n",
        "]"
      ],
      "metadata": {
        "id": "89I-dmuTHB0_"
      },
      "execution_count": null,
      "outputs": []
    },
    {
      "cell_type": "code",
      "source": [
        "for i in reviews:\n",
        "  print(re.findall(r\"\\d{2}/\\d{2}/\\d{4}\",i))"
      ],
      "metadata": {
        "colab": {
          "base_uri": "https://localhost:8080/"
        },
        "id": "exepUuEHHBt5",
        "outputId": "beaf76c5-822f-4734-e8a5-93492c58ef5c"
      },
      "execution_count": null,
      "outputs": [
        {
          "output_type": "stream",
          "name": "stdout",
          "text": [
            "['10/07/2025']\n",
            "[]\n",
            "[]\n",
            "[]\n",
            "[]\n"
          ]
        }
      ]
    },
    {
      "cell_type": "code",
      "source": [
        "for i in reviews:\n",
        "  print(re.sub(r\"\\d+\", \"\", i))"
      ],
      "metadata": {
        "colab": {
          "base_uri": "https://localhost:8080/"
        },
        "id": "7jzqTiRxHBrc",
        "outputId": "2221da17-4b5b-4eb0-b0f0-95ac6a46c23f"
      },
      "execution_count": null,
      "outputs": [
        {
          "output_type": "stream",
          "name": "stdout",
          "text": [
            "I bought this on //, and it's amazing! \n",
            "Email me at user@example.com for more info.\n",
            "The phone number is --, call anytime.\n",
            "This product is well-made and state-of-the-art!\n",
            "Worst. Experience. Ever. 👎 So bad I said bad twice. bad bad.\n"
          ]
        }
      ]
    },
    {
      "cell_type": "code",
      "source": [
        "for i in reviews:\n",
        "  print(re.sub(r\"[^\\w\\s]\", \"\", i))"
      ],
      "metadata": {
        "colab": {
          "base_uri": "https://localhost:8080/"
        },
        "id": "1cJ_rnTzHBo9",
        "outputId": "68e35275-668a-4975-f0d3-d7fba2b80b6f"
      },
      "execution_count": null,
      "outputs": [
        {
          "output_type": "stream",
          "name": "stdout",
          "text": [
            "I bought this on 10072025 and its amazing 123\n",
            "Email me at user123examplecom for more info\n",
            "The phone number is 9876543210 call anytime\n",
            "This product is wellmade and stateoftheart\n",
            "Worst Experience Ever  So bad I said bad twice bad bad\n"
          ]
        }
      ]
    },
    {
      "cell_type": "code",
      "source": [
        "re.findall(r\"\\b\\d{3}[-.\\s]?\\d{3}[-.\\s]?\\d{4}\\b\")"
      ],
      "metadata": {
        "colab": {
          "base_uri": "https://localhost:8080/",
          "height": 148
        },
        "id": "2X5avQP6HBmE",
        "outputId": "d5155683-1ab3-46f0-8c26-3a6c048999d8"
      },
      "execution_count": null,
      "outputs": [
        {
          "output_type": "error",
          "ename": "TypeError",
          "evalue": "findall() missing 1 required positional argument: 'string'",
          "traceback": [
            "\u001b[0;31m---------------------------------------------------------------------------\u001b[0m",
            "\u001b[0;31mTypeError\u001b[0m                                 Traceback (most recent call last)",
            "\u001b[0;32m/tmp/ipython-input-37-2476021548.py\u001b[0m in \u001b[0;36m<cell line: 0>\u001b[0;34m()\u001b[0m\n\u001b[0;32m----> 1\u001b[0;31m \u001b[0mre\u001b[0m\u001b[0;34m.\u001b[0m\u001b[0mfindall\u001b[0m\u001b[0;34m(\u001b[0m\u001b[0;34mr\"\\b\\d{3}[-.\\s]?\\d{3}[-.\\s]?\\d{4}\\b\"\u001b[0m\u001b[0;34m)\u001b[0m\u001b[0;34m\u001b[0m\u001b[0;34m\u001b[0m\u001b[0m\n\u001b[0m",
            "\u001b[0;31mTypeError\u001b[0m: findall() missing 1 required positional argument: 'string'"
          ]
        }
      ]
    },
    {
      "cell_type": "code",
      "source": [],
      "metadata": {
        "id": "NR4udaHoHBjb"
      },
      "execution_count": null,
      "outputs": []
    },
    {
      "cell_type": "code",
      "source": [],
      "metadata": {
        "id": "zcjfY-cEHBgk"
      },
      "execution_count": null,
      "outputs": []
    },
    {
      "cell_type": "code",
      "source": [],
      "metadata": {
        "id": "v_AHiRZmHBen"
      },
      "execution_count": null,
      "outputs": []
    },
    {
      "cell_type": "code",
      "source": [],
      "metadata": {
        "id": "8IZdRsSuHBb1"
      },
      "execution_count": null,
      "outputs": []
    },
    {
      "cell_type": "code",
      "source": [],
      "metadata": {
        "id": "jpINvAw0HBZc"
      },
      "execution_count": null,
      "outputs": []
    },
    {
      "cell_type": "code",
      "source": [],
      "metadata": {
        "id": "FBDLBbnOHBWt"
      },
      "execution_count": null,
      "outputs": []
    },
    {
      "cell_type": "code",
      "source": [],
      "metadata": {
        "id": "2xWhDctSHBUI"
      },
      "execution_count": null,
      "outputs": []
    },
    {
      "cell_type": "code",
      "source": [],
      "metadata": {
        "id": "E3YieehPHBRe"
      },
      "execution_count": null,
      "outputs": []
    }
  ]
}